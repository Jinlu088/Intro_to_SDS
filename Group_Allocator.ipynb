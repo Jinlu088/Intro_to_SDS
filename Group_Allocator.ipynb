{
 "cells": [
  {
   "cell_type": "code",
   "execution_count": 1,
   "metadata": {},
   "outputs": [
    {
     "data": {
      "text/plain": "{'Paper 1': ['Student 15',\n  'Student 16',\n  'Student 13',\n  'Student 4',\n  'Student 23'],\n 'Paper 2': ['Student 17',\n  'Student 8',\n  'Student 22',\n  'Student 11',\n  'Student 3'],\n 'Paper 3': ['Student 19',\n  'Student 5',\n  'Student 20',\n  'Student 18',\n  'Student 2'],\n 'Paper 4': ['Student 21',\n  'Student 6',\n  'Student 25',\n  'Student 9',\n  'Student 7'],\n 'Paper 5': ['Student 12',\n  'Student 10',\n  'Student 1',\n  'Student 24',\n  'Student 14']}"
     },
     "execution_count": 1,
     "metadata": {},
     "output_type": "execute_result"
    }
   ],
   "source": [
    "import random\n",
    "random.seed(12345)\n",
    "\n",
    "def chunks(l, n):\n",
    "    \"\"\"Yield successive n-sized chunks from l.\"\"\"\n",
    "    for i in range(0, len(l), n):\n",
    "        yield l[i:i + n]\n",
    "\n",
    "#replace this with a list of students names\n",
    "students = ['Student ' + str(i) for i in range(1, 26)]\n",
    "\n",
    "papers = ['Paper ' + str(i) for i in range(1, 6)]\n",
    "\n",
    "random.shuffle(students)\n",
    "\n",
    "dict(zip(papers, list(chunks(students, 5))))\n"
   ]
  },
  {
   "cell_type": "code",
   "execution_count": null,
   "metadata": {},
   "outputs": [],
   "source": []
  }
 ],
 "metadata": {
  "kernelspec": {
   "display_name": "Python 3",
   "language": "python",
   "name": "python3"
  },
  "language_info": {
   "codemirror_mode": {
    "name": "ipython",
    "version": 3
   },
   "file_extension": ".py",
   "mimetype": "text/x-python",
   "name": "python",
   "nbconvert_exporter": "python",
   "pygments_lexer": "ipython3",
   "version": "3.8.5"
  }
 },
 "nbformat": 4,
 "nbformat_minor": 4
}