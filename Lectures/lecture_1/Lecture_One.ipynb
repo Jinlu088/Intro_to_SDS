{
 "cells": [
  {
   "cell_type": "markdown",
   "metadata": {},
   "source": [
    "# An Introduction to Social Data Science\n",
    "\n",
    "## Lecture One\n",
    "\n",
    "### An Introduction to Python: Part One\n",
    "\n",
    "#### 9th August, 2021"
   ]
  },
  {
   "cell_type": "markdown",
   "metadata": {},
   "source": [
    "Welcome! This is the first of three lectures in the 'Introduction to Social Data Science' module which teaches the fundamentals of Python. Please see the readme.md file in the [Github repository](https://github.com/crahal/Teaching/tree/master/PythonForSociologists) for the course handbook. Please note: this module will revolve around Python 3.x, and while you can follow the examples and homeworks in a text-editor and execute the scripts via the command line, [Jupyter Notebooks](https://jupyter.org/) are advised! All important Python concepts are in bold typeface.\n",
    "\n",
    "In today's lecture we will cover primative data types (characters and numbers), introduce various types of object (including types of collection) before moving on to for loops. Without getting ahead of ourselves, we can note at this early stage that in Python, everything is an object (except control flows), and that it is an object-oriented language (although not a 'pure' one)."
   ]
  },
  {
   "cell_type": "markdown",
   "metadata": {},
   "source": [
    "## Section 1.1: Primative Data Types\n",
    "\n",
    "Before we get to objects, which are the abstract building blocks of data, let's first introduce some primitive data types:\n",
    "\n",
    "* Characters: 'A', '!', '1' -- one single 'glyph'\n",
    "* Numbers\n",
    "* Two types of numbers:\n",
    " * Integer: 1,2,3, -500, +600,\n",
    " * Float: 1.123, 0.1232534, -4123.123123"
   ]
  },
  {
   "cell_type": "markdown",
   "metadata": {},
   "source": [
    "### Section 1.1.1: Characters\n",
    "\n",
    "A character is a single 'glyph' that is included in a character set. Some characters are visible, such as the letter A (or 'a' - note case sensitivity will be *extremely* important) and some are invisible. Within this specific document, multiple characters make content in 'markdown', or can be joined together to name form variable names or control the flow of a Python program. There are three important invisible characters:\n",
    "\n",
    "1. Space (the common whitespace which is separating these words)\n",
    "2. Tab (which is usually about four spaces long - more in Lecture Two when we talk about indenting)\n",
    "3. Newline character (which tells the computer to move to the next line)\n",
    "\n",
    "Lets look at some examples, and introduce the **print()** command:"
   ]
  },
  {
   "cell_type": "code",
   "execution_count": 1,
   "metadata": {},
   "outputs": [
    {
     "name": "stdout",
     "output_type": "stream",
     "text": [
      "1. hello friends! how are you today?\n",
      "2. hello friends! \n",
      "how are you today?\n",
      "3. hello friends! \thow are you today?\n"
     ]
    }
   ],
   "source": [
    "print('1. hello friends! how are you today?')\n",
    "print('2. hello friends! \\nhow are you today?')\n",
    "print('3. hello friends! \\thow are you today?')"
   ]
  },
  {
   "cell_type": "markdown",
   "metadata": {},
   "source": [
    "and the **type()** command"
   ]
  },
  {
   "cell_type": "code",
   "execution_count": 2,
   "metadata": {
    "scrolled": true
   },
   "outputs": [
    {
     "data": {
      "text/plain": [
       "str"
      ]
     },
     "execution_count": 2,
     "metadata": {},
     "output_type": "execute_result"
    }
   ],
   "source": [
    "type('this is a group of characters')"
   ]
  },
  {
   "cell_type": "code",
   "execution_count": 3,
   "metadata": {},
   "outputs": [
    {
     "data": {
      "text/plain": [
       "int"
      ]
     },
     "execution_count": 3,
     "metadata": {},
     "output_type": "execute_result"
    }
   ],
   "source": [
    "type(1)"
   ]
  },
  {
   "cell_type": "markdown",
   "metadata": {},
   "source": [
    "### 1.1.2 Numbers \n",
    "\n",
    "Numbers come in several **types** (of object), but two are specifically important to mention:\n",
    "\n",
    "1. Integers - whole numbers, such as 1 or 42,\n",
    "2. Floating point numbers - these allow for decimal points such as 2.17 or 3.33\n",
    "\n",
    "Lets first consider this: "
   ]
  },
  {
   "cell_type": "code",
   "execution_count": 4,
   "metadata": {},
   "outputs": [
    {
     "data": {
      "text/plain": [
       "2.4"
      ]
     },
     "execution_count": 4,
     "metadata": {},
     "output_type": "execute_result"
    }
   ],
   "source": [
    "12 / 5"
   ]
  },
  {
   "cell_type": "markdown",
   "metadata": {},
   "source": [
    "What's happened here? We've divided two integers to get a float! Floats can be distinguished from integers because they have a fractional part. We can force a number to be either an integer or a float using int() and float():"
   ]
  },
  {
   "cell_type": "code",
   "execution_count": 5,
   "metadata": {},
   "outputs": [
    {
     "data": {
      "text/plain": [
       "2"
      ]
     },
     "execution_count": 5,
     "metadata": {},
     "output_type": "execute_result"
    }
   ],
   "source": [
    "int(12/5)"
   ]
  },
  {
   "cell_type": "code",
   "execution_count": 6,
   "metadata": {},
   "outputs": [
    {
     "data": {
      "text/plain": [
       "2.4"
      ]
     },
     "execution_count": 6,
     "metadata": {},
     "output_type": "execute_result"
    }
   ],
   "source": [
    "float(12/5)"
   ]
  },
  {
   "cell_type": "code",
   "execution_count": 7,
   "metadata": {},
   "outputs": [
    {
     "data": {
      "text/plain": [
       "int"
      ]
     },
     "execution_count": 7,
     "metadata": {},
     "output_type": "execute_result"
    }
   ],
   "source": [
    "type(3)"
   ]
  },
  {
   "cell_type": "code",
   "execution_count": 8,
   "metadata": {},
   "outputs": [
    {
     "data": {
      "text/plain": [
       "int"
      ]
     },
     "execution_count": 8,
     "metadata": {},
     "output_type": "execute_result"
    }
   ],
   "source": [
    "type(int(12/5))"
   ]
  },
  {
   "cell_type": "code",
   "execution_count": 9,
   "metadata": {},
   "outputs": [
    {
     "data": {
      "text/plain": [
       "float"
      ]
     },
     "execution_count": 9,
     "metadata": {},
     "output_type": "execute_result"
    }
   ],
   "source": [
    "type(12/5)"
   ]
  },
  {
   "cell_type": "code",
   "execution_count": 10,
   "metadata": {},
   "outputs": [
    {
     "data": {
      "text/plain": [
       "int"
      ]
     },
     "execution_count": 10,
     "metadata": {},
     "output_type": "execute_result"
    }
   ],
   "source": [
    "type(3)"
   ]
  },
  {
   "cell_type": "markdown",
   "metadata": {},
   "source": [
    "## Section 1.2. Strings\n",
    "\n",
    "Naturally, a character isn't very useful on its own! Multiple characters together form a _string_. In Python, strings are enclosed using quotations. You can use a variety of quotations in order to close the string (i.e. single or double). Two things to remember:\n",
    "\n",
    "    1. Always close the string with the same quotes used to open it.\n",
    "    2. Always escape a quotation character if you use it inside the string.\n",
    "\n",
    "```python\n",
    "'This is a string.'\n",
    "\n",
    "\"This is also a string.\"\n",
    "\n",
    "'\"This is yet another string!\n",
    "s\n",
    "sdfasdfa\n",
    "asdf\n",
    "asdf\n",
    "asdf\"'\n",
    "\n",
    "''This is not a string, but why?''\n",
    "```\n",
    "\n",
    "In Python 3.* all strings are printed inside parentheses like the following:\n",
    "```python\n",
    "print(\"This is a string!\")\n",
    "```\n",
    "\n",
    "How does this differ from Python 2.x? \n",
    "\n",
    "Now let's **assign** a string to a variable, then print the variable"
   ]
  },
  {
   "cell_type": "code",
   "execution_count": 11,
   "metadata": {},
   "outputs": [
    {
     "name": "stdout",
     "output_type": "stream",
     "text": [
      "This is a string. It has been assigned to a variable called 'SomeVar'\n"
     ]
    }
   ],
   "source": [
    "SomeVar = \"This is a string. It has been assigned to a variable called 'SomeVar'\"\n",
    "print(SomeVar)"
   ]
  },
  {
   "cell_type": "markdown",
   "metadata": {},
   "source": [
    "A variable is a name that is given to an object whose contents can change.\n",
    "\n",
    "There are some really important variable naming conventions:\n",
    "\n",
    "* ALLCAPS should be used to represent a variable that we want to keep constant, like a secret (API) key.\n",
    "\n",
    "* __underscoreunderscore means a variable that is hidden and shouldn't be referenced directly.\n",
    "\n",
    "* variables should only start with ASCII characters (and not numbers).\n",
    "\n",
    "* use a consistent style, such as camelCaseNames or underscore_variable_names.\n",
    "\n",
    "* alllowercasenounderscorenames are hard to read.\n",
    "\n",
    "If we want to print and assign a float or int, we have to force its type to a string."
   ]
  },
  {
   "cell_type": "code",
   "execution_count": 12,
   "metadata": {},
   "outputs": [
    {
     "name": "stdout",
     "output_type": "stream",
     "text": [
      "When printing numbers, we need to convert them into a string, first: 2834\n",
      "2839.0\n"
     ]
    }
   ],
   "source": [
    "RandomNumber = 2834\n",
    "print('When printing numbers, we need to convert them into a string, first: ' + str(RandomNumber))\n",
    "print(5.00+RandomNumber)"
   ]
  },
  {
   "cell_type": "markdown",
   "metadata": {},
   "source": [
    "### Section 1.2.1: 📝 Character Sets 📝\n",
    "\n",
    "#### Section 1.2.1.1: ASCII\n",
    "\n",
    "Strings are drawn from character sets. Loosely, 'the alphabet' is a characeter set, but not a very useful one, because it's so limited. The basic Western character set is ASCII. It has 128 code points. The first 38 are control characters, like 'new line', and the remainder are the upper and lower case alphabet, ten digits and punctuation characters. ASCII is not really sufficient for most languages or most of our data intensive purposes.\n",
    "\n",
    "#### Section 1.2.1.2: UTF-8\n",
    "\n",
    "Unicode is meant to be a very large character set, containig over a million code points. As such, unicode includes most characters from most languages around the world, as well as the emergent emoji character set. Python 3 makes it pretty straightforward.\n",
    "\n",
    "#### Section 1.2.1.3: Emoji\n",
    "\n",
    "Emoji is an emerging unicode standard for pictograms. You cannot rely on every computer displaying every emoji, or more nuanced emojis such as the Apple skin tone emojis. If you want to reference an emoji in Python, you'll need to know the unicode definition. You can print emoji, but not really do much else with them. I mention emoji only to highlight that you don't need to strip your text right down to ASCII to work with it anymore, and this opens up new research questions.(Note: pictographic langauges such as Chinese are far easier to deal with in Python 3 than 2)."
   ]
  },
  {
   "cell_type": "code",
   "execution_count": 13,
   "metadata": {},
   "outputs": [
    {
     "name": "stdout",
     "output_type": "stream",
     "text": [
      "🌴\n",
      "b'\\\\U0001f334'\n",
      "🌴\n",
      "True\n"
     ]
    }
   ],
   "source": [
    "print('\\U0001f334') # This is the emoji code point. \n",
    "print(b'\\U0001f334') # This is what happens when you print it as a 'bytestring'\n",
    "print('🌴') # You can print emoji directly\n",
    "print('🌴' in 'Yeah, great job! 🌴')"
   ]
  },
  {
   "cell_type": "markdown",
   "metadata": {},
   "source": [
    "### Section 1.2.2: String manipulation\n",
    "\n",
    "It is critical to note that as opposed to other languages, strings are [indexed starting from 0](https://www.cs.utexas.edu/users/EWD/transcriptions/EWD08xx/EWD831.html) and work sequentially forward. So in the string: \"python is the best\", there is an 'p' as the 0th element and an 'n' as the 5th.\n",
    "\n",
    "What other languages are zero indexed? What are not?"
   ]
  },
  {
   "cell_type": "markdown",
   "metadata": {},
   "source": [
    "Lets look at string indexing:"
   ]
  },
  {
   "cell_type": "code",
   "execution_count": 14,
   "metadata": {},
   "outputs": [
    {
     "name": "stdout",
     "output_type": "stream",
     "text": [
      "p y t h o n\n"
     ]
    }
   ],
   "source": [
    "variable = \"python is the best\"\n",
    "print(variable[0], variable[1], variable[2],\n",
    "     variable[3], variable[4], variable[5])"
   ]
  },
  {
   "cell_type": "markdown",
   "metadata": {},
   "source": [
    "The above hopefully shows us that a string is really just a list of characters (as in a series of characters that one would string together).\n",
    "\n",
    "##### Pop Quiz:\n",
    "\n",
    "Can you print out the 'b' from this variable? Can you think of a shortcut to do it?"
   ]
  },
  {
   "cell_type": "code",
   "execution_count": 15,
   "metadata": {},
   "outputs": [
    {
     "name": "stdout",
     "output_type": "stream",
     "text": [
      "14\n"
     ]
    }
   ],
   "source": [
    "print(variable.find('b'))"
   ]
  },
  {
   "cell_type": "code",
   "execution_count": 16,
   "metadata": {},
   "outputs": [
    {
     "name": "stdout",
     "output_type": "stream",
     "text": [
      "False\n"
     ]
    }
   ],
   "source": [
    "print(variable.isalnum())"
   ]
  },
  {
   "cell_type": "markdown",
   "metadata": {},
   "source": [
    "Lets look at some standard string **methods** (a method is 'attached' to an **object**):\n",
    "\n",
    "* upper: change to upper case\n",
    "* lower: change to lower case\n",
    "* title (capitalize): change to title case\n",
    "* find: return index of first instance of input\n",
    "* isalnum: is this string alphanumeric?\n",
    "* isalpha: is this string just letters?\n",
    "* replace: find all instances of something and change to something else\n",
    "* strip: remove whitespace characters from a string (useful when reading in from a file)\n",
    "\n",
    "The period [.] is used to link the object to the method. So if we have a string object:\n",
    "\n",
    "\"This is an object\"\n",
    "\n",
    "And we attach the 'upper' method like so:\n",
    "\n",
    "\"This is an object\".upper()\n",
    "\n",
    "Note that some methods take **arguments**\n",
    "\n",
    "We can change it to upper case. Try it below using ```variable``` from above:"
   ]
  },
  {
   "cell_type": "code",
   "execution_count": 17,
   "metadata": {},
   "outputs": [
    {
     "name": "stdout",
     "output_type": "stream",
     "text": [
      "python is the best\n",
      "PYTHON IS THE BEST\n",
      "python is the best\n",
      "Python Is The Best\n",
      "7\n",
      "False\n",
      "False\n",
      "python is not the best\n",
      "python is the best\n"
     ]
    }
   ],
   "source": [
    "print(variable)\n",
    "print(variable.upper())\n",
    "print(variable.lower())\n",
    "print(variable.title())\n",
    "print(variable.find('i'))\n",
    "print(variable.isalnum())\n",
    "print(variable.isalpha())\n",
    "print(variable.replace(' is ',' is not ').replace('a string', 'a banana')) #we can 'chain' methods together\n",
    "print(variable.strip(' '))"
   ]
  },
  {
   "cell_type": "markdown",
   "metadata": {},
   "source": [
    "We can also get help on specific methods using a syntax such as ```help(somevar.title)``` (similar to other programming languages). We can also get a list of all methods associated with an object using ```dir(object)```. To determine the *type* of object, we can utilize ```type(object)```, and to get detailed help on any object or method ```help(object)```. Lets try a couple out:"
   ]
  },
  {
   "cell_type": "code",
   "execution_count": 18,
   "metadata": {},
   "outputs": [
    {
     "data": {
      "text/plain": [
       "str"
      ]
     },
     "execution_count": 18,
     "metadata": {},
     "output_type": "execute_result"
    }
   ],
   "source": [
    "type(variable)"
   ]
  },
  {
   "cell_type": "code",
   "execution_count": 19,
   "metadata": {},
   "outputs": [
    {
     "data": {
      "text/plain": [
       "['__add__',\n",
       " '__class__',\n",
       " '__contains__',\n",
       " '__delattr__',\n",
       " '__dir__',\n",
       " '__doc__',\n",
       " '__eq__',\n",
       " '__format__',\n",
       " '__ge__',\n",
       " '__getattribute__',\n",
       " '__getitem__',\n",
       " '__getnewargs__',\n",
       " '__gt__',\n",
       " '__hash__',\n",
       " '__init__',\n",
       " '__init_subclass__',\n",
       " '__iter__',\n",
       " '__le__',\n",
       " '__len__',\n",
       " '__lt__',\n",
       " '__mod__',\n",
       " '__mul__',\n",
       " '__ne__',\n",
       " '__new__',\n",
       " '__reduce__',\n",
       " '__reduce_ex__',\n",
       " '__repr__',\n",
       " '__rmod__',\n",
       " '__rmul__',\n",
       " '__setattr__',\n",
       " '__sizeof__',\n",
       " '__str__',\n",
       " '__subclasshook__',\n",
       " 'capitalize',\n",
       " 'casefold',\n",
       " 'center',\n",
       " 'count',\n",
       " 'encode',\n",
       " 'endswith',\n",
       " 'expandtabs',\n",
       " 'find',\n",
       " 'format',\n",
       " 'format_map',\n",
       " 'index',\n",
       " 'isalnum',\n",
       " 'isalpha',\n",
       " 'isascii',\n",
       " 'isdecimal',\n",
       " 'isdigit',\n",
       " 'isidentifier',\n",
       " 'islower',\n",
       " 'isnumeric',\n",
       " 'isprintable',\n",
       " 'isspace',\n",
       " 'istitle',\n",
       " 'isupper',\n",
       " 'join',\n",
       " 'ljust',\n",
       " 'lower',\n",
       " 'lstrip',\n",
       " 'maketrans',\n",
       " 'partition',\n",
       " 'replace',\n",
       " 'rfind',\n",
       " 'rindex',\n",
       " 'rjust',\n",
       " 'rpartition',\n",
       " 'rsplit',\n",
       " 'rstrip',\n",
       " 'split',\n",
       " 'splitlines',\n",
       " 'startswith',\n",
       " 'strip',\n",
       " 'swapcase',\n",
       " 'title',\n",
       " 'translate',\n",
       " 'upper',\n",
       " 'zfill']"
      ]
     },
     "execution_count": 19,
     "metadata": {},
     "output_type": "execute_result"
    }
   ],
   "source": [
    "dir(variable)"
   ]
  },
  {
   "cell_type": "code",
   "execution_count": 20,
   "metadata": {},
   "outputs": [
    {
     "name": "stdout",
     "output_type": "stream",
     "text": [
      "Help on class str in module builtins:\n",
      "\n",
      "class str(object)\n",
      " |  str(object='') -> str\n",
      " |  str(bytes_or_buffer[, encoding[, errors]]) -> str\n",
      " |  \n",
      " |  Create a new string object from the given object. If encoding or\n",
      " |  errors is specified, then the object must expose a data buffer\n",
      " |  that will be decoded using the given encoding and error handler.\n",
      " |  Otherwise, returns the result of object.__str__() (if defined)\n",
      " |  or repr(object).\n",
      " |  encoding defaults to sys.getdefaultencoding().\n",
      " |  errors defaults to 'strict'.\n",
      " |  \n",
      " |  Methods defined here:\n",
      " |  \n",
      " |  __add__(self, value, /)\n",
      " |      Return self+value.\n",
      " |  \n",
      " |  __contains__(self, key, /)\n",
      " |      Return key in self.\n",
      " |  \n",
      " |  __eq__(self, value, /)\n",
      " |      Return self==value.\n",
      " |  \n",
      " |  __format__(self, format_spec, /)\n",
      " |      Return a formatted version of the string as described by format_spec.\n",
      " |  \n",
      " |  __ge__(self, value, /)\n",
      " |      Return self>=value.\n",
      " |  \n",
      " |  __getattribute__(self, name, /)\n",
      " |      Return getattr(self, name).\n",
      " |  \n",
      " |  __getitem__(self, key, /)\n",
      " |      Return self[key].\n",
      " |  \n",
      " |  __getnewargs__(...)\n",
      " |  \n",
      " |  __gt__(self, value, /)\n",
      " |      Return self>value.\n",
      " |  \n",
      " |  __hash__(self, /)\n",
      " |      Return hash(self).\n",
      " |  \n",
      " |  __iter__(self, /)\n",
      " |      Implement iter(self).\n",
      " |  \n",
      " |  __le__(self, value, /)\n",
      " |      Return self<=value.\n",
      " |  \n",
      " |  __len__(self, /)\n",
      " |      Return len(self).\n",
      " |  \n",
      " |  __lt__(self, value, /)\n",
      " |      Return self<value.\n",
      " |  \n",
      " |  __mod__(self, value, /)\n",
      " |      Return self%value.\n",
      " |  \n",
      " |  __mul__(self, value, /)\n",
      " |      Return self*value.\n",
      " |  \n",
      " |  __ne__(self, value, /)\n",
      " |      Return self!=value.\n",
      " |  \n",
      " |  __repr__(self, /)\n",
      " |      Return repr(self).\n",
      " |  \n",
      " |  __rmod__(self, value, /)\n",
      " |      Return value%self.\n",
      " |  \n",
      " |  __rmul__(self, value, /)\n",
      " |      Return value*self.\n",
      " |  \n",
      " |  __sizeof__(self, /)\n",
      " |      Return the size of the string in memory, in bytes.\n",
      " |  \n",
      " |  __str__(self, /)\n",
      " |      Return str(self).\n",
      " |  \n",
      " |  capitalize(self, /)\n",
      " |      Return a capitalized version of the string.\n",
      " |      \n",
      " |      More specifically, make the first character have upper case and the rest lower\n",
      " |      case.\n",
      " |  \n",
      " |  casefold(self, /)\n",
      " |      Return a version of the string suitable for caseless comparisons.\n",
      " |  \n",
      " |  center(self, width, fillchar=' ', /)\n",
      " |      Return a centered string of length width.\n",
      " |      \n",
      " |      Padding is done using the specified fill character (default is a space).\n",
      " |  \n",
      " |  count(...)\n",
      " |      S.count(sub[, start[, end]]) -> int\n",
      " |      \n",
      " |      Return the number of non-overlapping occurrences of substring sub in\n",
      " |      string S[start:end].  Optional arguments start and end are\n",
      " |      interpreted as in slice notation.\n",
      " |  \n",
      " |  encode(self, /, encoding='utf-8', errors='strict')\n",
      " |      Encode the string using the codec registered for encoding.\n",
      " |      \n",
      " |      encoding\n",
      " |        The encoding in which to encode the string.\n",
      " |      errors\n",
      " |        The error handling scheme to use for encoding errors.\n",
      " |        The default is 'strict' meaning that encoding errors raise a\n",
      " |        UnicodeEncodeError.  Other possible values are 'ignore', 'replace' and\n",
      " |        'xmlcharrefreplace' as well as any other name registered with\n",
      " |        codecs.register_error that can handle UnicodeEncodeErrors.\n",
      " |  \n",
      " |  endswith(...)\n",
      " |      S.endswith(suffix[, start[, end]]) -> bool\n",
      " |      \n",
      " |      Return True if S ends with the specified suffix, False otherwise.\n",
      " |      With optional start, test S beginning at that position.\n",
      " |      With optional end, stop comparing S at that position.\n",
      " |      suffix can also be a tuple of strings to try.\n",
      " |  \n",
      " |  expandtabs(self, /, tabsize=8)\n",
      " |      Return a copy where all tab characters are expanded using spaces.\n",
      " |      \n",
      " |      If tabsize is not given, a tab size of 8 characters is assumed.\n",
      " |  \n",
      " |  find(...)\n",
      " |      S.find(sub[, start[, end]]) -> int\n",
      " |      \n",
      " |      Return the lowest index in S where substring sub is found,\n",
      " |      such that sub is contained within S[start:end].  Optional\n",
      " |      arguments start and end are interpreted as in slice notation.\n",
      " |      \n",
      " |      Return -1 on failure.\n",
      " |  \n",
      " |  format(...)\n",
      " |      S.format(*args, **kwargs) -> str\n",
      " |      \n",
      " |      Return a formatted version of S, using substitutions from args and kwargs.\n",
      " |      The substitutions are identified by braces ('{' and '}').\n",
      " |  \n",
      " |  format_map(...)\n",
      " |      S.format_map(mapping) -> str\n",
      " |      \n",
      " |      Return a formatted version of S, using substitutions from mapping.\n",
      " |      The substitutions are identified by braces ('{' and '}').\n",
      " |  \n",
      " |  index(...)\n",
      " |      S.index(sub[, start[, end]]) -> int\n",
      " |      \n",
      " |      Return the lowest index in S where substring sub is found,\n",
      " |      such that sub is contained within S[start:end].  Optional\n",
      " |      arguments start and end are interpreted as in slice notation.\n",
      " |      \n",
      " |      Raises ValueError when the substring is not found.\n",
      " |  \n",
      " |  isalnum(self, /)\n",
      " |      Return True if the string is an alpha-numeric string, False otherwise.\n",
      " |      \n",
      " |      A string is alpha-numeric if all characters in the string are alpha-numeric and\n",
      " |      there is at least one character in the string.\n",
      " |  \n",
      " |  isalpha(self, /)\n",
      " |      Return True if the string is an alphabetic string, False otherwise.\n",
      " |      \n",
      " |      A string is alphabetic if all characters in the string are alphabetic and there\n",
      " |      is at least one character in the string.\n",
      " |  \n",
      " |  isascii(self, /)\n",
      " |      Return True if all characters in the string are ASCII, False otherwise.\n",
      " |      \n",
      " |      ASCII characters have code points in the range U+0000-U+007F.\n",
      " |      Empty string is ASCII too.\n",
      " |  \n",
      " |  isdecimal(self, /)\n",
      " |      Return True if the string is a decimal string, False otherwise.\n",
      " |      \n",
      " |      A string is a decimal string if all characters in the string are decimal and\n",
      " |      there is at least one character in the string.\n",
      " |  \n",
      " |  isdigit(self, /)\n",
      " |      Return True if the string is a digit string, False otherwise.\n",
      " |      \n",
      " |      A string is a digit string if all characters in the string are digits and there\n",
      " |      is at least one character in the string.\n",
      " |  \n",
      " |  isidentifier(self, /)\n",
      " |      Return True if the string is a valid Python identifier, False otherwise.\n",
      " |      \n",
      " |      Call keyword.iskeyword(s) to test whether string s is a reserved identifier,\n",
      " |      such as \"def\" or \"class\".\n",
      " |  \n",
      " |  islower(self, /)\n",
      " |      Return True if the string is a lowercase string, False otherwise.\n",
      " |      \n",
      " |      A string is lowercase if all cased characters in the string are lowercase and\n",
      " |      there is at least one cased character in the string.\n",
      " |  \n",
      " |  isnumeric(self, /)\n",
      " |      Return True if the string is a numeric string, False otherwise.\n",
      " |      \n",
      " |      A string is numeric if all characters in the string are numeric and there is at\n",
      " |      least one character in the string.\n",
      " |  \n",
      " |  isprintable(self, /)\n",
      " |      Return True if the string is printable, False otherwise.\n",
      " |      \n",
      " |      A string is printable if all of its characters are considered printable in\n",
      " |      repr() or if it is empty.\n",
      " |  \n",
      " |  isspace(self, /)\n",
      " |      Return True if the string is a whitespace string, False otherwise.\n",
      " |      \n",
      " |      A string is whitespace if all characters in the string are whitespace and there\n",
      " |      is at least one character in the string.\n",
      " |  \n",
      " |  istitle(self, /)\n",
      " |      Return True if the string is a title-cased string, False otherwise.\n",
      " |      \n",
      " |      In a title-cased string, upper- and title-case characters may only\n",
      " |      follow uncased characters and lowercase characters only cased ones.\n",
      " |  \n",
      " |  isupper(self, /)\n",
      " |      Return True if the string is an uppercase string, False otherwise.\n",
      " |      \n",
      " |      A string is uppercase if all cased characters in the string are uppercase and\n",
      " |      there is at least one cased character in the string.\n",
      " |  \n",
      " |  join(self, iterable, /)\n",
      " |      Concatenate any number of strings.\n",
      " |      \n",
      " |      The string whose method is called is inserted in between each given string.\n",
      " |      The result is returned as a new string.\n",
      " |      \n",
      " |      Example: '.'.join(['ab', 'pq', 'rs']) -> 'ab.pq.rs'\n",
      " |  \n",
      " |  ljust(self, width, fillchar=' ', /)\n",
      " |      Return a left-justified string of length width.\n",
      " |      \n",
      " |      Padding is done using the specified fill character (default is a space).\n",
      " |  \n",
      " |  lower(self, /)\n",
      " |      Return a copy of the string converted to lowercase.\n",
      " |  \n",
      " |  lstrip(self, chars=None, /)\n",
      " |      Return a copy of the string with leading whitespace removed.\n",
      " |      \n",
      " |      If chars is given and not None, remove characters in chars instead.\n",
      " |  \n",
      " |  partition(self, sep, /)\n",
      " |      Partition the string into three parts using the given separator.\n",
      " |      \n",
      " |      This will search for the separator in the string.  If the separator is found,\n",
      " |      returns a 3-tuple containing the part before the separator, the separator\n",
      " |      itself, and the part after it.\n",
      " |      \n",
      " |      If the separator is not found, returns a 3-tuple containing the original string\n",
      " |      and two empty strings.\n",
      " |  \n",
      " |  replace(self, old, new, count=-1, /)\n",
      " |      Return a copy with all occurrences of substring old replaced by new.\n",
      " |      \n",
      " |        count\n",
      " |          Maximum number of occurrences to replace.\n",
      " |          -1 (the default value) means replace all occurrences.\n",
      " |      \n",
      " |      If the optional argument count is given, only the first count occurrences are\n",
      " |      replaced.\n",
      " |  \n",
      " |  rfind(...)\n",
      " |      S.rfind(sub[, start[, end]]) -> int\n",
      " |      \n",
      " |      Return the highest index in S where substring sub is found,\n",
      " |      such that sub is contained within S[start:end].  Optional\n",
      " |      arguments start and end are interpreted as in slice notation.\n",
      " |      \n",
      " |      Return -1 on failure.\n",
      " |  \n",
      " |  rindex(...)\n",
      " |      S.rindex(sub[, start[, end]]) -> int\n",
      " |      \n",
      " |      Return the highest index in S where substring sub is found,\n",
      " |      such that sub is contained within S[start:end].  Optional\n",
      " |      arguments start and end are interpreted as in slice notation.\n",
      " |      \n",
      " |      Raises ValueError when the substring is not found.\n",
      " |  \n",
      " |  rjust(self, width, fillchar=' ', /)\n",
      " |      Return a right-justified string of length width.\n",
      " |      \n",
      " |      Padding is done using the specified fill character (default is a space).\n",
      " |  \n",
      " |  rpartition(self, sep, /)\n",
      " |      Partition the string into three parts using the given separator.\n",
      " |      \n",
      " |      This will search for the separator in the string, starting at the end. If\n",
      " |      the separator is found, returns a 3-tuple containing the part before the\n",
      " |      separator, the separator itself, and the part after it.\n",
      " |      \n",
      " |      If the separator is not found, returns a 3-tuple containing two empty strings\n",
      " |      and the original string.\n",
      " |  \n",
      " |  rsplit(self, /, sep=None, maxsplit=-1)\n",
      " |      Return a list of the words in the string, using sep as the delimiter string.\n",
      " |      \n",
      " |        sep\n",
      " |          The delimiter according which to split the string.\n",
      " |          None (the default value) means split according to any whitespace,\n",
      " |          and discard empty strings from the result.\n",
      " |        maxsplit\n",
      " |          Maximum number of splits to do.\n",
      " |          -1 (the default value) means no limit.\n",
      " |      \n",
      " |      Splits are done starting at the end of the string and working to the front.\n",
      " |  \n",
      " |  rstrip(self, chars=None, /)\n",
      " |      Return a copy of the string with trailing whitespace removed.\n",
      " |      \n",
      " |      If chars is given and not None, remove characters in chars instead.\n",
      " |  \n",
      " |  split(self, /, sep=None, maxsplit=-1)\n",
      " |      Return a list of the words in the string, using sep as the delimiter string.\n",
      " |      \n",
      " |      sep\n",
      " |        The delimiter according which to split the string.\n",
      " |        None (the default value) means split according to any whitespace,\n",
      " |        and discard empty strings from the result.\n",
      " |      maxsplit\n",
      " |        Maximum number of splits to do.\n",
      " |        -1 (the default value) means no limit.\n",
      " |  \n",
      " |  splitlines(self, /, keepends=False)\n",
      " |      Return a list of the lines in the string, breaking at line boundaries.\n",
      " |      \n",
      " |      Line breaks are not included in the resulting list unless keepends is given and\n",
      " |      true.\n",
      " |  \n",
      " |  startswith(...)\n",
      " |      S.startswith(prefix[, start[, end]]) -> bool\n",
      " |      \n",
      " |      Return True if S starts with the specified prefix, False otherwise.\n",
      " |      With optional start, test S beginning at that position.\n",
      " |      With optional end, stop comparing S at that position.\n",
      " |      prefix can also be a tuple of strings to try.\n",
      " |  \n",
      " |  strip(self, chars=None, /)\n",
      " |      Return a copy of the string with leading and trailing whitespace removed.\n",
      " |      \n",
      " |      If chars is given and not None, remove characters in chars instead.\n",
      " |  \n",
      " |  swapcase(self, /)\n",
      " |      Convert uppercase characters to lowercase and lowercase characters to uppercase.\n",
      " |  \n",
      " |  title(self, /)\n",
      " |      Return a version of the string where each word is titlecased.\n",
      " |      \n",
      " |      More specifically, words start with uppercased characters and all remaining\n",
      " |      cased characters have lower case.\n",
      " |  \n",
      " |  translate(self, table, /)\n",
      " |      Replace each character in the string using the given translation table.\n",
      " |      \n",
      " |        table\n",
      " |          Translation table, which must be a mapping of Unicode ordinals to\n",
      " |          Unicode ordinals, strings, or None.\n",
      " |      \n",
      " |      The table must implement lookup/indexing via __getitem__, for instance a\n",
      " |      dictionary or list.  If this operation raises LookupError, the character is\n",
      " |      left untouched.  Characters mapped to None are deleted.\n",
      " |  \n",
      " |  upper(self, /)\n",
      " |      Return a copy of the string converted to uppercase.\n",
      " |  \n",
      " |  zfill(self, width, /)\n",
      " |      Pad a numeric string with zeros on the left, to fill a field of the given width.\n",
      " |      \n",
      " |      The string is never truncated.\n",
      " |  \n",
      " |  ----------------------------------------------------------------------\n",
      " |  Static methods defined here:\n",
      " |  \n",
      " |  __new__(*args, **kwargs) from builtins.type\n",
      " |      Create and return a new object.  See help(type) for accurate signature.\n",
      " |  \n",
      " |  maketrans(...)\n",
      " |      Return a translation table usable for str.translate().\n",
      " |      \n",
      " |      If there is only one argument, it must be a dictionary mapping Unicode\n",
      " |      ordinals (integers) or characters to Unicode ordinals, strings or None.\n",
      " |      Character keys will be then converted to ordinals.\n",
      " |      If there are two arguments, they must be strings of equal length, and\n",
      " |      in the resulting dictionary, each character in x will be mapped to the\n",
      " |      character at the same position in y. If there is a third argument, it\n",
      " |      must be a string, whose characters will be mapped to None in the result.\n",
      "\n"
     ]
    }
   ],
   "source": [
    "help(str)"
   ]
  },
  {
   "cell_type": "markdown",
   "metadata": {},
   "source": [
    "### Section 1.2.3: Special Characters\n",
    "\n",
    "What if we need to print a quotation character inside a string that uses quotes? Introducing the very important **escape character**! The escape character is the backslash: in order to print a quotation rather than use it to end the string, you would type:\n",
    "\n",
    "```python\n",
    "\"Escaping a \\\" in a string\"\n",
    "```\n",
    "\n",
    "However, sometimes you can sidestep this by using a different quotation type within the string itself:\n",
    "\n",
    "```python\n",
    "\"This will 'work'.\"\n",
    "'This will also \"work\".'\n",
    "'''This will work for both \" and ' types.'''\n",
    "\n",
    "```\n",
    "The triple quote is used for block quotes such as at the top of a function docstring, where you can just keep writing across lines. Lets try it out, and escape the escape character also (with a newline thrown in for good measure):"
   ]
  },
  {
   "cell_type": "code",
   "execution_count": 21,
   "metadata": {},
   "outputs": [
    {
     "name": "stdout",
     "output_type": "stream",
     "text": [
      "This will also \"work\".\n",
      "If you haven't inserted \\ characters\n",
      "This will be \"totally\" broken\n"
     ]
    }
   ],
   "source": [
    "print('This will also \"work\".')\n",
    "print(\"If you haven't inserted \\\\ characters\\nThis will be \\\"totally\\\" broken\")"
   ]
  },
  {
   "cell_type": "code",
   "execution_count": 22,
   "metadata": {},
   "outputs": [
    {
     "data": {
      "text/plain": [
       "' This is a commented out block using\\ntripple single\\nquotes!\\n'"
      ]
     },
     "execution_count": 22,
     "metadata": {},
     "output_type": "execute_result"
    }
   ],
   "source": [
    "''' This is a commented out block using\n",
    "tripple single\n",
    "quotes!\n",
    "'''"
   ]
  },
  {
   "cell_type": "markdown",
   "metadata": {},
   "source": [
    "### Section 1.2.4: Combining strings\n",
    "\n",
    "Imagine you have two words that you wish to add together, such as 'Data' and 'Science'. There are several ways to do this.\n",
    "\n",
    "#### Section 1.2.4.1: Concatenation\n",
    "\n",
    "In python the + symbol means **concatenate**, such as for example when it appears between two strings. This is the simplest way to combine two strings. Here are some ways to concatenate. Try them out, but dont forget the whitespace if and where necessary:"
   ]
  },
  {
   "cell_type": "code",
   "execution_count": 23,
   "metadata": {},
   "outputs": [
    {
     "name": "stdout",
     "output_type": "stream",
     "text": [
      "Social Data Science!\n",
      "<class 'str'>\n"
     ]
    }
   ],
   "source": [
    "var1 = \"Social\"\n",
    "var2 = \" Data \"\n",
    "var3 = \"Science!\"\n",
    "print(var1 + var2 + var3)\n",
    "print(type(var1+var2+var3))"
   ]
  },
  {
   "cell_type": "markdown",
   "metadata": {},
   "source": [
    "Note that the + symbol is used for both addition *and* concatenation. So be careful, if you mix strings and numbers python will throw a **traceback** (try ```print(1 + '2')```...: what do you get?)\n",
    "\n",
    "To make a number into a string, you can use the string function (```str()```)"
   ]
  },
  {
   "cell_type": "code",
   "execution_count": 24,
   "metadata": {},
   "outputs": [
    {
     "name": "stdout",
     "output_type": "stream",
     "text": [
      "123\n"
     ]
    }
   ],
   "source": [
    "num = 123\n",
    "strNum = str(num)\n",
    "print(strNum)"
   ]
  },
  {
   "cell_type": "markdown",
   "metadata": {},
   "source": [
    "#### Section 1.4.2: Insertion\n",
    "\n",
    "Sometimes you want to insert something in the middle of a statement but don't want to merely concatenate. Maybe you have a collection of things and want to insert them in a lot of places. The bonus is that you can also print digits really nicely this way."
   ]
  },
  {
   "cell_type": "code",
   "execution_count": 25,
   "metadata": {},
   "outputs": [
    {
     "name": "stdout",
     "output_type": "stream",
     "text": [
      "Pi to two decimal points is 3.15. Isn't that convenient?\n"
     ]
    }
   ],
   "source": [
    "print(\"Pi to two decimal points is %1.2f. Isn't that convenient?\" % 3.1456)"
   ]
  },
  {
   "cell_type": "markdown",
   "metadata": {},
   "source": [
    "#### Section 1.2.4.3: Joining\n",
    "\n",
    "Sometimes you want to join strings together with a specific seperator:"
   ]
  },
  {
   "cell_type": "code",
   "execution_count": 26,
   "metadata": {},
   "outputs": [
    {
     "data": {
      "text/plain": [
       "'I want to; join this together'"
      ]
     },
     "execution_count": 26,
     "metadata": {},
     "output_type": "execute_result"
    }
   ],
   "source": [
    "\";\".join([\"I want to\",\" join this together\"])"
   ]
  },
  {
   "cell_type": "markdown",
   "metadata": {},
   "source": [
    "More commonly, you want to join a list of words on whitespace to make a sentence: ```' '.join(list)```.\n",
    "\n",
    "#### Section 1.2.4.4: Splitting\n",
    "\n",
    "If you can join strings together, you can also split them (into a **list**: see Section 1.3.1 below -- this will be our first **collection**)! This is crucial for data cleaning, especially with _free text_ like social media data. The default way to split the data is using the whitespace character, but we can also split on specific substrings:"
   ]
  },
  {
   "cell_type": "code",
   "execution_count": 27,
   "metadata": {},
   "outputs": [
    {
     "name": "stdout",
     "output_type": "stream",
     "text": [
      "['Lets', 'split', 'this', 'into', 'chunks']\n",
      "<class 'list'>\n"
     ]
    }
   ],
   "source": [
    "BigChunk = 'Lets split this into chunks'\n",
    "print(BigChunk.split(' '))\n",
    "print(type(BigChunk.split(' ')))"
   ]
  },
  {
   "cell_type": "markdown",
   "metadata": {},
   "source": [
    "## Section 1.3: Collections\n",
    "\n",
    "Virtually every programming language has a notion of a collection. A collection is a means for referring to one or more things at the same time, and Python has many collection types (note: a string can be thought of as a joined up list of characters). In general, collections are **iterable**, which means that you can ask for each item in the collection one-by-one. But beyond that they vary quite dramatically. Here are the major collection *types* that you will come across in Python:"
   ]
  },
  {
   "cell_type": "markdown",
   "metadata": {},
   "source": [
    "### Section 1.3.1: Lists\n",
    "\n",
    "A list is a sequential (the order is relevant), zero-indexed (first item is indexed at 0, just as with strings) and *mutable* (you can add or delete elements) collection signified by ```[... , ...]``` (we saw this above with the split). Lets make and play around with a list:"
   ]
  },
  {
   "cell_type": "code",
   "execution_count": 28,
   "metadata": {},
   "outputs": [
    {
     "name": "stdout",
     "output_type": "stream",
     "text": [
      "My first and third favourite python libraries are: matplotlib and pandas\n"
     ]
    }
   ],
   "source": [
    "libraries = [\"matplotlib\", \"numpy\", \"pandas\"]\n",
    "\n",
    "print('My first and third favourite python libraries are: ' +\n",
    "      libraries[0] + ' and ' + libraries[2])"
   ]
  },
  {
   "cell_type": "markdown",
   "metadata": {},
   "source": [
    "How about appending to this list?"
   ]
  },
  {
   "cell_type": "code",
   "execution_count": 29,
   "metadata": {},
   "outputs": [
    {
     "name": "stdout",
     "output_type": "stream",
     "text": [
      "['matplotlib', 'numpy', 'pandas', 'seaborn']\n"
     ]
    }
   ],
   "source": [
    "libraries.append(\"seaborn\")\n",
    "print(libraries)"
   ]
  },
  {
   "cell_type": "markdown",
   "metadata": {},
   "source": [
    "### Section 1.3.2: Tuples\n",
    "\n",
    "A tuple is a sequential, zero-indexed and *immutable* collection signified by ```(... , ...)```: a list you can't change. It's denoted by parentheses rather than square brackets. They are used in lots of places where you don't want a list to change size or you want your object operations to be faster than with a list:\n",
    "\n",
    "```python\n",
    "libraries = (\"matplotlib\", \"numpy\", \"pandas\")\n",
    "```"
   ]
  },
  {
   "cell_type": "markdown",
   "metadata": {},
   "source": [
    "#### Section 1.3.1.2: Querying and Slicing Lists/Tuples \n",
    "\n",
    "You can index a list just like a string, and just like strings, you can ask for a range of values (a 'slice') using a colon (although if you run out of range, you will get an error):\n",
    "\n",
    "```python\n",
    "libraries[0:2]\n",
    "```\n",
    "\n",
    "Note here that the return is a list. If we want a specific string, we can index the new list:\n",
    "\n",
    "```python\n",
    "libraries[0:2][0]\n",
    "```\n",
    "\n",
    "You can also index from the end of the list/tuple/string to walk backwards. This is done with negative numbers:\n",
    "\n",
    "```python\n",
    "libraries[-1]\n",
    "```"
   ]
  },
  {
   "cell_type": "markdown",
   "metadata": {},
   "source": [
    "### 1.3.3: Dictionaries\n",
    "\n",
    "A dictionary is an unordered, key-indexed and mutable collection signified by ```{... : ... , ... : ... }```. Like in English, where a dictionary defines a word, a dictionary in Python uses a key to fetch a value (we are in the world of `key-value' pairs:\n",
    "\n",
    "```python\n",
    "FamousSociologists = {\"Marx\": \"1\", \"Weber\": \"2\", \"Durkheim\":\"3\"}\n",
    "```"
   ]
  },
  {
   "cell_type": "code",
   "execution_count": 30,
   "metadata": {},
   "outputs": [
    {
     "name": "stdout",
     "output_type": "stream",
     "text": [
      "dict_keys(['Marx', 'Weber', 'Durkheim', 'C. Wright Mills'])\n",
      "dict_values(['1', '2', '3', '4'])\n",
      "dict_items([('Marx', '1'), ('Weber', '2'), ('Durkheim', '3'), ('C. Wright Mills', '4')])\n",
      "2\n"
     ]
    }
   ],
   "source": [
    "FamousSociologists = {\"Marx\":\"1\",\"Weber\":\"2\", \"Durkheim\":\"3\"}\n",
    "FamousSociologists['C. Wright Mills']=\"4\" #add a new key:value pair 'on the fly'\n",
    "\n",
    "print(FamousSociologists.keys())\n",
    "print(FamousSociologists.values())\n",
    "print(FamousSociologists.items())\n",
    "print(FamousSociologists['Weber'])"
   ]
  },
  {
   "cell_type": "markdown",
   "metadata": {},
   "source": [
    "Set up a dictionary of countries and capitals to show that we can nest collections:"
   ]
  },
  {
   "cell_type": "code",
   "execution_count": 31,
   "metadata": {},
   "outputs": [],
   "source": [
    "geography = {\n",
    "    \"England\": \"London\",\n",
    "    \"China\": \"Beijing\",\n",
    "    \"Malaysia\": [\"Kuala Lumpur\", \"Putrajaya\"],\n",
    "}"
   ]
  },
  {
   "cell_type": "markdown",
   "metadata": {},
   "source": [
    "Note: this principle is largely how the .json data format works"
   ]
  },
  {
   "cell_type": "markdown",
   "metadata": {},
   "source": [
    "Lets now take a break. In that time, i'll set you an exercise question."
   ]
  },
  {
   "cell_type": "markdown",
   "metadata": {},
   "source": [
    "### Exercise 1:\n"
   ]
  },
  {
   "cell_type": "markdown",
   "metadata": {},
   "source": [
    "### Section 1.3.4: Advanced List Operations¶\n",
    "\n",
    "#### 3.4.1. Slicing of lists\n",
    "\n",
    "We can do more than simply query a list by its index. And also, indices can be negative numbers as well. When we use negative numbers we are indexing the list from the end, rather than the front (we briefly saw this last week). We can also ask for a part of a list in a range. This is called 'slicing'. Finally, if we are working with characters, we can chop up a string into a list, or take a list and join it together as a string. You can index a list using the []. To slice a list, you would use the : inside the []. Lets try an example where we get a single indexed return and a slice:"
   ]
  },
  {
   "cell_type": "code",
   "execution_count": 32,
   "metadata": {},
   "outputs": [
    {
     "name": "stdout",
     "output_type": "stream",
     "text": [
      "['political science', 'social policy']\n"
     ]
    }
   ],
   "source": [
    "mylist = ['sociology', 'economics', 'political science', 'social policy']\n",
    "\n",
    "print(mylist[2:4])"
   ]
  },
  {
   "cell_type": "markdown",
   "metadata": {},
   "source": [
    "What happens if we try and call an index not in the range of the list? i.e. print(mylist[6]) ?\n",
    "\n",
    "Now you try: define your own list (it can be as long as you like) and index and slice it in various ways. Note, we index and split strings in exactly the same way as we do lists:"
   ]
  },
  {
   "cell_type": "code",
   "execution_count": 33,
   "metadata": {},
   "outputs": [
    {
     "name": "stdout",
     "output_type": "stream",
     "text": [
      "like cat food\n",
      "cats\n",
      "food\n"
     ]
    }
   ],
   "source": [
    "cat_breath = 'My cats breath smells like cat food'\n",
    "print(cat_breath[22:])\n",
    "print(cat_breath[3:7])\n",
    "print(cat_breath[-4:])"
   ]
  },
  {
   "cell_type": "markdown",
   "metadata": {},
   "source": [
    "We can also find the position at which something occurs with the find method:"
   ]
  },
  {
   "cell_type": "code",
   "execution_count": 34,
   "metadata": {},
   "outputs": [
    {
     "data": {
      "text/plain": [
       "3"
      ]
     },
     "execution_count": 34,
     "metadata": {},
     "output_type": "execute_result"
    }
   ],
   "source": [
    "cat_breath.find('cats')"
   ]
  },
  {
   "cell_type": "markdown",
   "metadata": {},
   "source": [
    "#### 1.3.4.2. Splitting\n",
    "\n",
    "Strings are just a special kind of list that only includes characters. We can query and slice strings the way we do lists. We can also alternate between strings and lists using ```.split()``` and ```.joint()```, i.e.:"
   ]
  },
  {
   "cell_type": "code",
   "execution_count": 35,
   "metadata": {},
   "outputs": [
    {
     "name": "stdout",
     "output_type": "stream",
     "text": [
      "['History', 'repeats', 'itself,\\nfirst', 'as', 'tragedy,\\nsecond', 'as', 'farce.']\n"
     ]
    },
    {
     "ename": "NameError",
     "evalue": "name 'aprint' is not defined",
     "output_type": "error",
     "traceback": [
      "\u001b[0;31m---------------------------------------------------------------------------\u001b[0m",
      "\u001b[0;31mNameError\u001b[0m                                 Traceback (most recent call last)",
      "\u001b[0;32m<ipython-input-35-df5bb14a28de>\u001b[0m in \u001b[0;36m<module>\u001b[0;34m\u001b[0m\n\u001b[1;32m      9\u001b[0m \u001b[0mnewstring\u001b[0m \u001b[0;34m=\u001b[0m \u001b[0;34m' '\u001b[0m\u001b[0;34m.\u001b[0m\u001b[0mjoin\u001b[0m\u001b[0;34m(\u001b[0m\u001b[0mnewlist\u001b[0m\u001b[0;34m)\u001b[0m\u001b[0;34m\u001b[0m\u001b[0;34m\u001b[0m\u001b[0m\n\u001b[1;32m     10\u001b[0m \u001b[0;34m\u001b[0m\u001b[0m\n\u001b[0;32m---> 11\u001b[0;31m \u001b[0maprint\u001b[0m\u001b[0;34m(\u001b[0m\u001b[0;34m'\\n\\n'\u001b[0m \u001b[0;34m+\u001b[0m \u001b[0mnewstring\u001b[0m\u001b[0;34m)\u001b[0m\u001b[0;34m\u001b[0m\u001b[0;34m\u001b[0m\u001b[0m\n\u001b[0m",
      "\u001b[0;31mNameError\u001b[0m: name 'aprint' is not defined"
     ]
    }
   ],
   "source": [
    "oldstring = 'History repeats itself,\\n' + \\\n",
    "            'first as tragedy,\\n' + \\\n",
    "            'second as farce.'\n",
    "\n",
    "newlist = oldstring.split(' ')\n",
    "\n",
    "print(newlist)\n",
    "\n",
    "newstring = ' '.join(newlist)\n",
    "\n",
    "aprint('\\n\\n' + newstring)"
   ]
  },
  {
   "cell_type": "markdown",
   "metadata": {},
   "source": [
    "Note again how we are breaking lines (Pep-8). We can also re-join a split string!\n",
    "\n",
    "Here (below) we are splitting the string on the '.', and re-joining them with ' ':"
   ]
  },
  {
   "cell_type": "code",
   "execution_count": null,
   "metadata": {},
   "outputs": [],
   "source": [
    "iwanttobreakfree=\"I.want.to.break.free.\"\n",
    "\n",
    "print(iwanttobreakfree)\n",
    "\n",
    "godknows=iwanttobreakfree.split('.')\n",
    "\n",
    "print(godknows)\n",
    "\n",
    "godknowsiwanttobreakfree=\" \".join(godknows)\n",
    "\n",
    "print(godknowsiwanttobreakfree)"
   ]
  },
  {
   "cell_type": "markdown",
   "metadata": {},
   "source": [
    "This string really wants to break free..."
   ]
  },
  {
   "cell_type": "markdown",
   "metadata": {},
   "source": [
    "## Section 1.4: Iterating over a collection\n",
    "\n",
    "We now move onto **control statements** which are absolutely critical. The first one we will consider is the _for loop_ for iterating over objects (collections) such as lists.\n",
    "\n",
    "Virtually any collection can be iterated over. Python will keep track of the elements in a collection so that each element is used only once. If a collection is unordered python will not necessarily give you the elements in the order that they were created. The ordering is actually related to how they are stored in memory and so it could change at any point. The main way to iterate through a collection is to use the infamous *for loop*. This will iteratively 'loop' through all elements of our collection, operating on them one at a time. where 'i' is the conventional iterator, try something like the following:"
   ]
  },
  {
   "cell_type": "code",
   "execution_count": null,
   "metadata": {},
   "outputs": [],
   "source": [
    "PrimeList = [1, 2, 3, 5, 7, 11, 13]\n",
    "for i in PrimeList: \n",
    "    print(i)"
   ]
  },
  {
   "cell_type": "code",
   "execution_count": null,
   "metadata": {},
   "outputs": [],
   "source": [
    "animals = ['dogs', 'cats', 'turtles']\n",
    "\n",
    "for i in animals:\n",
    "    print('Did you know that '+ i +' are my favourite animals?')"
   ]
  },
  {
   "cell_type": "markdown",
   "metadata": {},
   "source": [
    "However, we can use any iterator. What are your favourite sandwiches?"
   ]
  },
  {
   "cell_type": "code",
   "execution_count": null,
   "metadata": {},
   "outputs": [],
   "source": [
    "sandwiches=['avocado', 'roast vegetables', 'salad'] # these two lines\n",
    "for sandwich in sandwiches:\n",
    "    print(sandwich + ' is my favourite sandwich filling!')"
   ]
  },
  {
   "cell_type": "markdown",
   "metadata": {},
   "source": [
    "There are two important things to note here:\n",
    "\n",
    "1. First, we *absolutely need* the colon at the end of the opening line of the control statement (try without!)\n",
    "\n",
    "2. Secondly, note the indentation. In Python, whitespace is used to denote blocks (in other langauges, brackets or braces are used). ```def```, ```if```, ```elif```, ```else```, ```try```, ```except```, ```finally```, ```with```, ```for```, ```while```, and ```class``` all start blocks. Some of these we will see more of in this course. To end the indentation, we just 'outdent' (i.e. go back to where we were before the block began). An indent can either be 4 spaces or a tab. People have [very heated](https://stackoverflow.com/questions/119562/tabs-versus-spaces-in-python-programming) discussions about [which to use](https://stackoverflow.blog/2017/06/15/developers-use-spaces-make-money-use-tabs/), but at this level, either is fine. Put simply: this indentation is how python manages what is inside a loop and what is after the loop. What happens if we dont intent, or dont include the colon?"
   ]
  },
  {
   "cell_type": "code",
   "execution_count": null,
   "metadata": {},
   "outputs": [],
   "source": [
    "Lets try some more examples because this concept of a for loop is so critical:"
   ]
  },
  {
   "cell_type": "code",
   "execution_count": null,
   "metadata": {},
   "outputs": [],
   "source": [
    "for name in ['what?', 'who?', 'Dr. Who']:\n",
    "    print('Hi! My name is: ')\n",
    "    print(name)"
   ]
  },
  {
   "cell_type": "code",
   "execution_count": null,
   "metadata": {},
   "outputs": [],
   "source": [
    "Lets move on to the concept of a 'loop counter' ([as discussed in Season 2, episode 13 of the Big Bang Theory, where Sheldon displays his friendship algorithm](http://padcandy.com/wp-content/uploads/2013/11/cb55_full_view.jpg):"
   ]
  },
  {
   "cell_type": "code",
   "execution_count": null,
   "metadata": {},
   "outputs": [],
   "source": [
    "counter=0\n",
    "languages = ['Python', 'R']\n",
    "for language in languages:\n",
    "    counter=counter+1\n",
    "    print('Computer programming language ' + language +' is rank: '+str(counter))"
   ]
  },
  {
   "cell_type": "markdown",
   "metadata": {},
   "source": [
    "### 1.4.1. [Iteration isn't always in sequence](https://stackoverflow.com/questions/3848091/set-iteration-order-varies-from-run-to-run).\n",
    "\n",
    "Below, you will see iteration over sets, lists and dictionaries. *Importantly*: note that sets and dictionaries are not guaranteed to come back in order (as discussed above), but all will be returned eventually. Notice how dictionaries are slightly different since they are not collections of elements, but pairs of elements. You can also have ordered dictionaries, although this is left for the optional homework."
   ]
  },
  {
   "cell_type": "code",
   "execution_count": null,
   "metadata": {},
   "outputs": [],
   "source": [
    "college_list = ['nuffield', 'st cats', 'st cross', 'nuffield', 'trinty']\n",
    "college_set = set(college_list) # notice how some dissapear? why?\n",
    "\n",
    "print(\"List of colleges:\")\n",
    "for i in college_list: \n",
    "    print(i)\n",
    "print(\"\\n\") # this just adds a space in between the results rather than actually printing any content\n",
    "\n",
    "print(\"Set of colleges:\")\n",
    "for i in college_set: \n",
    "    print(i)"
   ]
  },
  {
   "cell_type": "code",
   "execution_count": null,
   "metadata": {},
   "outputs": [],
   "source": [
    "colleges = {\"a\":\"all souls\", \"b\":[\"brasenose\", \"balliol\"], \"e\":\"exeter\"}\n",
    "\n",
    "print(\"\\nDictionary [default, keys]:\")\n",
    "for i in colleges:\n",
    "    print(i)\n",
    "    \n",
    "print(\"\\nDictionary [values]:\")\n",
    "for i in colleges.values(): \n",
    "    print(i)\n",
    "\n",
    "print(\"\\nDictionary [values] - by querying:\")\n",
    "for i in colleges:\n",
    "    print(colleges[i])\n",
    "\n",
    "print(\"\\nDictionary [items] - single query:\")\n",
    "for i in colleges.items(): \n",
    "    print(i)\n",
    "    \n",
    "print(\"\\nDictionary [items] - double query:\")\n",
    "for i,j in colleges.items(): \n",
    "    print(i,\":\",j)"
   ]
  },
  {
   "cell_type": "markdown",
   "metadata": {},
   "source": [
    "More advanced functionality that we wont cover: [zip](https://www.w3schools.com/python/ref_func_zip.asp)\n",
    "    \n",
    "For example, we won't consider:\n",
    "\n",
    "```python\n",
    "for f, b in zip(foo, bar):\n",
    "    print(f, b)\n",
    "```"
   ]
  },
  {
   "cell_type": "markdown",
   "metadata": {},
   "source": [
    "### Homework 1"
   ]
  }
 ],
 "metadata": {
  "kernelspec": {
   "display_name": "Python 3",
   "language": "python",
   "name": "python3"
  },
  "language_info": {
   "codemirror_mode": {
    "name": "ipython",
    "version": 3
   },
   "file_extension": ".py",
   "mimetype": "text/x-python",
   "name": "python",
   "nbconvert_exporter": "python",
   "pygments_lexer": "ipython3",
   "version": "3.8.5"
  }
 },
 "nbformat": 4,
 "nbformat_minor": 2
}
