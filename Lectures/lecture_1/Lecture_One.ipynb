{
 "cells": [
  {
   "cell_type": "markdown",
   "metadata": {},
   "source": [
    "# An Introduction to Social Data Science\n",
    "\n",
    "## Lecture One\n",
    "\n",
    "### An Introduction to Python: Part One\n",
    "\n",
    "#### 9th August, 2021"
   ]
  },
  {
   "cell_type": "markdown",
   "metadata": {},
   "source": [
    "Welcome! This is the first of three lectures in the 'Introduction to Social Data Science' module which teaches the fundamentals of Python. Please see the readme.md file in the [Github repository](https://github.com/crahal/Teaching/tree/master/PythonForSociologists) for the course handbook. Please note: this module will revolve around Python 3.x, and while you can follow the examples and homeworks in a text-editor and execute the scripts via the command line, [Jupyter Notebooks](https://jupyter.org/) are advised! All important Python concepts are in bold typeface.\n",
    "\n",
    "In today's lecture we will cover primative data types (characters and numbers), introduce various types of object (including types of collection) before moving on to for loops. Without getting ahead of ourselves, we can note at this early stage that in Python, everything is an object (except control flows), and that it is an object-oriented language (although not a 'pure' one)."
   ]
  },
  {
   "cell_type": "markdown",
   "metadata": {},
   "source": [
    "## Section 1.1: Primative Data Types\n",
    "\n",
    "Before we get to objects, which are the abstract building blocks of data, let's first introduce some primitive data types:\n",
    "\n",
    "* Characters: 'A', '!', '1' -- one single 'glyph'\n",
    "* Numbers\n",
    "* Two types of numbers:\n",
    " * Integer: 1,2,3, -500, +600,\n",
    " * Float: 1.123, 0.1232534, -4123.123123"
   ]
  },
  {
   "cell_type": "markdown",
   "metadata": {},
   "source": [
    "### Section 1.1.1: Characters\n",
    "\n",
    "A character is a single 'glyph' that is included in a character set. Some characters are visible, such as the letter A (or 'a' - note case sensitivity will be *extremely* important) and some are invisible. Within this specific document, multiple characters make content in 'markdown', or can be joined together to name form variable names or control the flow of a Python program. There are three important invisible characters:\n",
    "\n",
    "1. Space (the common whitespace which is separating these words)\n",
    "2. Tab (which is usually about four spaces long - more in Lecture Two when we talk about indenting)\n",
    "3. Newline character (which tells the computer to move to the next line)\n",
    "\n",
    "Lets look at some examples, and introduce the **print()** command:"
   ]
  },
  {
   "cell_type": "code",
   "execution_count": 1,
   "metadata": {},
   "outputs": [],
   "source": [
    "print('1. hello friends! how are you today?')\n",
    "print('2. hello friends! \\nhow are you today?')\n",
    "print('3. hello friends! \\thow are you today?')"
   ]
  },
  {
   "cell_type": "markdown",
   "metadata": {},
   "source": [
    "and the **type()** command"
   ]
  },
  {
   "cell_type": "code",
   "execution_count": 2,
   "metadata": {
    "scrolled": true
   },
   "outputs": [],
   "source": [
    "type('this is a group of characters')"
   ]
  },
  {
   "cell_type": "code",
   "execution_count": 3,
   "metadata": {},
   "outputs": [],
   "source": [
    "type(1)"
   ]
  },
  {
   "cell_type": "markdown",
   "metadata": {},
   "source": [
    "### 1.1.2 Numbers \n",
    "\n",
    "Numbers come in several **types** (of object), but two are specifically important to mention:\n",
    "\n",
    "1. Integers - whole numbers, such as 1 or 42,\n",
    "2. Floating point numbers - these allow for decimal points such as 2.17 or 3.33\n",
    "\n",
    "Lets first consider this: "
   ]
  },
  {
   "cell_type": "code",
   "execution_count": 4,
   "metadata": {},
   "outputs": [],
   "source": [
    "12 / 5"
   ]
  },
  {
   "cell_type": "markdown",
   "metadata": {},
   "source": [
    "What's happened here? We've divided two integers to get a float! Floats can be distinguished from integers because they have a fractional part. We can force a number to be either an integer or a float using int() and float():"
   ]
  },
  {
   "cell_type": "code",
   "execution_count": 5,
   "metadata": {},
   "outputs": [],
   "source": [
    "int(12/5)"
   ]
  },
  {
   "cell_type": "code",
   "execution_count": 6,
   "metadata": {},
   "outputs": [],
   "source": [
    "float(12/5)"
   ]
  },
  {
   "cell_type": "code",
   "execution_count": 7,
   "metadata": {},
   "outputs": [],
   "source": [
    "type(3)"
   ]
  },
  {
   "cell_type": "code",
   "execution_count": 8,
   "metadata": {},
   "outputs": [],
   "source": [
    "type(int(12/5))"
   ]
  },
  {
   "cell_type": "code",
   "execution_count": 9,
   "metadata": {},
   "outputs": [],
   "source": [
    "type(12/5)"
   ]
  },
  {
   "cell_type": "code",
   "execution_count": 10,
   "metadata": {},
   "outputs": [],
   "source": [
    "type(3)"
   ]
  },
  {
   "cell_type": "markdown",
   "metadata": {},
   "source": [
    "## Section 1.2. Strings\n",
    "\n",
    "Naturally, a character isn't very useful on its own! Multiple characters together form a _string_. In Python, strings are enclosed using quotations. You can use a variety of quotations in order to close the string (i.e. single or double). Two things to remember:\n",
    "\n",
    "    1. Always close the string with the same quotes used to open it.\n",
    "    2. Always escape a quotation character if you use it inside the string.\n",
    "\n",
    "```python\n",
    "'This is a string.'\n",
    "\n",
    "\"This is also a string.\"\n",
    "\n",
    "'\"This is yet another string!\n",
    "s\n",
    "sdfasdfa\n",
    "asdf\n",
    "asdf\n",
    "asdf\"'\n",
    "\n",
    "''This is not a string, but why?''\n",
    "```\n",
    "\n",
    "In Python 3.* all strings are printed inside parentheses like the following:\n",
    "```python\n",
    "print(\"This is a string!\")\n",
    "```\n",
    "\n",
    "How does this differ from Python 2.x? \n",
    "\n",
    "Now let's **assign** a string to a variable, then print the variable"
   ]
  },
  {
   "cell_type": "code",
   "execution_count": 11,
   "metadata": {},
   "outputs": [],
   "source": [
    "SomeVar = \"This is a string. It has been assigned to a variable called 'SomeVar'\"\n",
    "print(SomeVar)"
   ]
  },
  {
   "cell_type": "markdown",
   "metadata": {},
   "source": [
    "A variable is a name that is given to an object whose contents can change.\n",
    "\n",
    "There are some really important variable naming conventions:\n",
    "\n",
    "* ALLCAPS should be used to represent a variable that we want to keep constant, like a secret (API) key.\n",
    "\n",
    "* __underscoreunderscore means a variable that is hidden and shouldn't be referenced directly.\n",
    "\n",
    "* variables should only start with ASCII characters (and not numbers).\n",
    "\n",
    "* use a consistent style, such as camelCaseNames or underscore_variable_names.\n",
    "\n",
    "* alllowercasenounderscorenames are hard to read.\n",
    "\n",
    "If we want to print and assign a float or int, we have to force its type to a string."
   ]
  },
  {
   "cell_type": "code",
   "execution_count": 12,
   "metadata": {},
   "outputs": [],
   "source": [
    "RandomNumber = 2834\n",
    "print('When printing numbers, we need to convert them into a string, first: ' + str(RandomNumber))\n",
    "print(5.00+RandomNumber)"
   ]
  },
  {
   "cell_type": "markdown",
   "metadata": {},
   "source": [
    "### Section 1.2.1: 📝 Character Sets 📝\n",
    "\n",
    "#### Section 1.2.1.1: ASCII\n",
    "\n",
    "Strings are drawn from character sets. Loosely, 'the alphabet' is a characeter set, but not a very useful one, because it's so limited. The basic Western character set is ASCII. It has 128 code points. The first 38 are control characters, like 'new line', and the remainder are the upper and lower case alphabet, ten digits and punctuation characters. ASCII is not really sufficient for most languages or most of our data intensive purposes.\n",
    "\n",
    "#### Section 1.2.1.2: UTF-8\n",
    "\n",
    "Unicode is meant to be a very large character set, containig over a million code points. As such, unicode includes most characters from most languages around the world, as well as the emergent emoji character set. Python 3 makes it pretty straightforward.\n",
    "\n",
    "#### Section 1.2.1.3: Emoji\n",
    "\n",
    "Emoji is an emerging unicode standard for pictograms. You cannot rely on every computer displaying every emoji, or more nuanced emojis such as the Apple skin tone emojis. If you want to reference an emoji in Python, you'll need to know the unicode definition. You can print emoji, but not really do much else with them. I mention emoji only to highlight that you don't need to strip your text right down to ASCII to work with it anymore, and this opens up new research questions.(Note: pictographic langauges such as Chinese are far easier to deal with in Python 3 than 2)."
   ]
  },
  {
   "cell_type": "code",
   "execution_count": 13,
   "metadata": {},
   "outputs": [],
   "source": [
    "print('\\U0001f334') # This is the emoji code point. \n",
    "print(b'\\U0001f334') # This is what happens when you print it as a 'bytestring'\n",
    "print('🌴') # You can print emoji directly\n",
    "print('🌴' in 'Yeah, great job! 🌴')"
   ]
  },
  {
   "cell_type": "markdown",
   "metadata": {},
   "source": [
    "### Section 1.2.2: String manipulation\n",
    "\n",
    "It is critical to note that as opposed to other languages, strings are [indexed starting from 0](https://www.cs.utexas.edu/users/EWD/transcriptions/EWD08xx/EWD831.html) and work sequentially forward. So in the string: \"python is the best\", there is an 'p' as the 0th element and an 'n' as the 5th.\n",
    "\n",
    "What other languages are zero indexed? What are not?"
   ]
  },
  {
   "cell_type": "markdown",
   "metadata": {},
   "source": [
    "Lets look at string indexing:"
   ]
  },
  {
   "cell_type": "code",
   "execution_count": 14,
   "metadata": {},
   "outputs": [],
   "source": [
    "variable = \"python is the best\"\n",
    "print(variable[0], variable[1], variable[2],\n",
    "     variable[3], variable[4], variable[5])"
   ]
  },
  {
   "cell_type": "markdown",
   "metadata": {},
   "source": [
    "The above hopefully shows us that a string is really just a list of characters (as in a series of characters that one would string together).\n",
    "\n",
    "##### Pop Quiz:\n",
    "\n",
    "Can you print out the 'b' from this variable? Can you think of a shortcut to do it?"
   ]
  },
  {
   "cell_type": "code",
   "execution_count": 15,
   "metadata": {},
   "outputs": [],
   "source": [
    "print(variable.find('b'))"
   ]
  },
  {
   "cell_type": "code",
   "execution_count": 16,
   "metadata": {},
   "outputs": [],
   "source": [
    "print(variable.isalnum())"
   ]
  },
  {
   "cell_type": "markdown",
   "metadata": {},
   "source": [
    "Lets look at some standard string **methods** (a method is 'attached' to an **object**):\n",
    "\n",
    "* upper: change to upper case\n",
    "* lower: change to lower case\n",
    "* title (capitalize): change to title case\n",
    "* find: return index of first instance of input\n",
    "* isalnum: is this string alphanumeric?\n",
    "* isalpha: is this string just letters?\n",
    "* replace: find all instances of something and change to something else\n",
    "* strip: remove whitespace characters from a string (useful when reading in from a file)\n",
    "\n",
    "The period [.] is used to link the object to the method. So if we have a string object:\n",
    "\n",
    "\"This is an object\"\n",
    "\n",
    "And we attach the 'upper' method like so:\n",
    "\n",
    "\"This is an object\".upper()\n",
    "\n",
    "Note that some methods take **arguments**\n",
    "\n",
    "We can change it to upper case. Try it below using ```variable``` from above:"
   ]
  },
  {
   "cell_type": "code",
   "execution_count": 17,
   "metadata": {},
   "outputs": [],
   "source": [
    "print(variable)\n",
    "print(variable.upper())\n",
    "print(variable.lower())\n",
    "print(variable.title())\n",
    "print(variable.find('i'))\n",
    "print(variable.isalnum())\n",
    "print(variable.isalpha())\n",
    "print(variable.replace(' is ',' is not ').replace('a string', 'a banana')) #we can 'chain' methods together\n",
    "print(variable.strip(' '))"
   ]
  },
  {
   "cell_type": "markdown",
   "metadata": {},
   "source": [
    "We can also get help on specific methods using a syntax such as ```help(somevar.title)``` (similar to other programming languages). We can also get a list of all methods associated with an object using ```dir(object)```. To determine the *type* of object, we can utilize ```type(object)```, and to get detailed help on any object or method ```help(object)```. Lets try a couple out:"
   ]
  },
  {
   "cell_type": "code",
   "execution_count": 18,
   "metadata": {},
   "outputs": [],
   "source": [
    "type(variable)"
   ]
  },
  {
   "cell_type": "code",
   "execution_count": 19,
   "metadata": {},
   "outputs": [],
   "source": [
    "dir(variable)"
   ]
  },
  {
   "cell_type": "code",
   "execution_count": 20,
   "metadata": {},
   "outputs": [],
   "source": [
    "help(str)"
   ]
  },
  {
   "cell_type": "markdown",
   "metadata": {},
   "source": [
    "### Section 1.2.3: Special Characters\n",
    "\n",
    "What if we need to print a quotation character inside a string that uses quotes? Introducing the very important **escape character**! The escape character is the backslash: in order to print a quotation rather than use it to end the string, you would type:\n",
    "\n",
    "```python\n",
    "\"Escaping a \\\" in a string\"\n",
    "```\n",
    "\n",
    "However, sometimes you can sidestep this by using a different quotation type within the string itself:\n",
    "\n",
    "```python\n",
    "\"This will 'work'.\"\n",
    "'This will also \"work\".'\n",
    "'''This will work for both \" and ' types.'''\n",
    "\n",
    "```\n",
    "The triple quote is used for block quotes such as at the top of a function docstring, where you can just keep writing across lines. Lets try it out, and escape the escape character also (with a newline thrown in for good measure):"
   ]
  },
  {
   "cell_type": "code",
   "execution_count": 21,
   "metadata": {},
   "outputs": [],
   "source": [
    "print('This will also \"work\".')\n",
    "print(\"If you haven't inserted \\\\ characters\\nThis will be \\\"totally\\\" broken\")"
   ]
  },
  {
   "cell_type": "code",
   "execution_count": 22,
   "metadata": {},
   "outputs": [],
   "source": [
    "''' This is a commented out block using\n",
    "tripple single\n",
    "quotes!\n",
    "'''"
   ]
  },
  {
   "cell_type": "markdown",
   "metadata": {},
   "source": [
    "### Section 1.2.4: Combining strings\n",
    "\n",
    "Imagine you have two words that you wish to add together, such as 'Data' and 'Science'. There are several ways to do this.\n",
    "\n",
    "#### Section 1.2.4.1: Concatenation\n",
    "\n",
    "In python the + symbol means **concatenate**, such as for example when it appears between two strings. This is the simplest way to combine two strings. Here are some ways to concatenate. Try them out, but dont forget the whitespace if and where necessary:"
   ]
  },
  {
   "cell_type": "code",
   "execution_count": 23,
   "metadata": {},
   "outputs": [],
   "source": [
    "var1 = \"Social\"\n",
    "var2 = \" Data \"\n",
    "var3 = \"Science!\"\n",
    "print(var1 + var2 + var3)\n",
    "print(type(var1+var2+var3))"
   ]
  },
  {
   "cell_type": "markdown",
   "metadata": {},
   "source": [
    "Note that the + symbol is used for both addition *and* concatenation. So be careful, if you mix strings and numbers python will throw a **traceback** (try ```print(1 + '2')```...: what do you get?)\n",
    "\n",
    "To make a number into a string, you can use the string function (```str()```)"
   ]
  },
  {
   "cell_type": "code",
   "execution_count": 24,
   "metadata": {},
   "outputs": [],
   "source": [
    "num = 123\n",
    "strNum = str(num)\n",
    "print(strNum)"
   ]
  },
  {
   "cell_type": "markdown",
   "metadata": {},
   "source": [
    "#### Section 1.4.2: Insertion\n",
    "\n",
    "Sometimes you want to insert something in the middle of a statement but don't want to merely concatenate. Maybe you have a collection of things and want to insert them in a lot of places. The bonus is that you can also print digits really nicely this way."
   ]
  },
  {
   "cell_type": "code",
   "execution_count": 25,
   "metadata": {},
   "outputs": [],
   "source": [
    "print(\"Pi to two decimal points is %1.2f. Isn't that convenient?\" % 3.1456)"
   ]
  },
  {
   "cell_type": "markdown",
   "metadata": {},
   "source": [
    "#### Section 1.2.4.3: Joining\n",
    "\n",
    "Sometimes you want to join strings together with a specific seperator:"
   ]
  },
  {
   "cell_type": "code",
   "execution_count": 26,
   "metadata": {},
   "outputs": [],
   "source": [
    "\";\".join([\"I want to\",\" join this together\"])"
   ]
  },
  {
   "cell_type": "markdown",
   "metadata": {},
   "source": [
    "More commonly, you want to join a list of words on whitespace to make a sentence: ```' '.join(list)```.\n",
    "\n",
    "#### Section 1.2.4.4: Splitting\n",
    "\n",
    "If you can join strings together, you can also split them (into a **list**: see Section 1.3.1 below -- this will be our first **collection**)! This is crucial for data cleaning, especially with _free text_ like social media data. The default way to split the data is using the whitespace character, but we can also split on specific substrings:"
   ]
  },
  {
   "cell_type": "code",
   "execution_count": 27,
   "metadata": {},
   "outputs": [
    {
     "name": "stdout",
     "output_type": "stream",
     "text": [
      "['Lets', 'split', 'this', 'into', 'chunks']\n",
      "<class 'list'>\n"
     ]
    }
   ],
   "source": [
    "BigChunk = 'Lets split this into chunks'\n",
    "print(BigChunk.split(' '))\n",
    "print(type(BigChunk.split(' ')))"
   ]
  },
  {
   "cell_type": "markdown",
   "metadata": {},
   "source": [
    "## Section 1.3: Collections\n",
    "\n",
    "Virtually every programming language has a notion of a collection. A collection is a means for referring to one or more things at the same time, and Python has many collection types (note: a string can be thought of as a joined up list of characters). In general, collections are **iterable**, which means that you can ask for each item in the collection one-by-one. But beyond that they vary quite dramatically. Here are the major collection *types* that you will come across in Python:"
   ]
  },
  {
   "cell_type": "markdown",
   "metadata": {},
   "source": [
    "### Section 1.3.1: Lists\n",
    "\n",
    "A list is a sequential (the order is relevant), zero-indexed (first item is indexed at 0, just as with strings) and *mutable* (you can add or delete elements) collection signified by ```[... , ...]``` (we saw this above with the split). Lets make and play around with a list:"
   ]
  },
  {
   "cell_type": "code",
   "execution_count": 28,
   "metadata": {},
   "outputs": [
    {
     "name": "stdout",
     "output_type": "stream",
     "text": [
      "My first and third favourite python libraries are: matplotlib and pandas\n"
     ]
    }
   ],
   "source": [
    "libraries = [\"matplotlib\", \"numpy\", \"pandas\"]\n",
    "\n",
    "print('My first and third favourite python libraries are: ' +\n",
    "      libraries[0] + ' and ' + libraries[2])"
   ]
  },
  {
   "cell_type": "markdown",
   "metadata": {},
   "source": [
    "How about appending to this list?"
   ]
  },
  {
   "cell_type": "code",
   "execution_count": 29,
   "metadata": {},
   "outputs": [
    {
     "name": "stdout",
     "output_type": "stream",
     "text": [
      "['matplotlib', 'numpy', 'pandas', 'seaborn']\n"
     ]
    }
   ],
   "source": [
    "libraries.append(\"seaborn\")\n",
    "print(libraries)"
   ]
  },
  {
   "cell_type": "markdown",
   "metadata": {},
   "source": [
    "### Section 1.3.2: Tuples\n",
    "\n",
    "A tuple is a sequential, zero-indexed and *immutable* collection signified by ```(... , ...)```: a list you can't change. It's denoted by parentheses rather than square brackets. They are used in lots of places where you don't want a list to change size or you want your object operations to be faster than with a list:\n",
    "\n",
    "```python\n",
    "libraries = (\"matplotlib\", \"numpy\", \"pandas\")\n",
    "```"
   ]
  },
  {
   "cell_type": "markdown",
   "metadata": {},
   "source": [
    "#### Section 1.3.1.2: Querying and Slicing Lists/Tuples \n",
    "\n",
    "You can index a list just like a string, and just like strings, you can ask for a range of values (a 'slice') using a colon (although if you run out of range, you will get an error):\n",
    "\n",
    "```python\n",
    "libraries[0:2]\n",
    "```\n",
    "\n",
    "Note here that the return is a list. If we want a specific string, we can index the new list:\n",
    "\n",
    "```python\n",
    "libraries[0:2][0]\n",
    "```\n",
    "\n",
    "You can also index from the end of the list/tuple/string to walk backwards. This is done with negative numbers:\n",
    "\n",
    "```python\n",
    "libraries[-1]\n",
    "```"
   ]
  },
  {
   "cell_type": "markdown",
   "metadata": {},
   "source": [
    "### 1.3.3: Dictionaries\n",
    "\n",
    "A dictionary is an unordered, key-indexed and mutable collection signified by ```{... : ... , ... : ... }```. Like in English, where a dictionary defines a word, a dictionary in Python uses a key to fetch a value (we are in the world of `key-value' pairs:\n",
    "\n",
    "```python\n",
    "FamousSociologists = {\"Marx\": \"1\", \"Weber\": \"2\", \"Durkheim\":\"3\"}\n",
    "```"
   ]
  },
  {
   "cell_type": "code",
   "execution_count": 30,
   "metadata": {},
   "outputs": [
    {
     "name": "stdout",
     "output_type": "stream",
     "text": [
      "dict_keys(['Marx', 'Weber', 'Durkheim', 'C. Wright Mills'])\n",
      "dict_values(['1', '2', '3', '4'])\n",
      "dict_items([('Marx', '1'), ('Weber', '2'), ('Durkheim', '3'), ('C. Wright Mills', '4')])\n",
      "2\n"
     ]
    }
   ],
   "source": [
    "FamousSociologists = {\"Marx\":\"1\",\"Weber\":\"2\", \"Durkheim\":\"3\"}\n",
    "FamousSociologists['C. Wright Mills']=\"4\" #add a new key:value pair 'on the fly'\n",
    "\n",
    "print(FamousSociologists.keys())\n",
    "print(FamousSociologists.values())\n",
    "print(FamousSociologists.items())\n",
    "print(FamousSociologists['Weber'])"
   ]
  },
  {
   "cell_type": "markdown",
   "metadata": {},
   "source": [
    "Set up a dictionary of countries and capitals to show that we can nest collections:"
   ]
  },
  {
   "cell_type": "code",
   "execution_count": 31,
   "metadata": {},
   "outputs": [],
   "source": [
    "geography = {\n",
    "    \"England\": \"London\",\n",
    "    \"China\": \"Beijing\",\n",
    "    \"Malaysia\": [\"Kuala Lumpur\", \"Putrajaya\"],\n",
    "}"
   ]
  },
  {
   "cell_type": "markdown",
   "metadata": {},
   "source": [
    "Note: this principle is largely how the .json data format works"
   ]
  },
  {
   "cell_type": "markdown",
   "metadata": {},
   "source": [
    "Lets now take a break. In that time, i'll set you an exercise question."
   ]
  },
  {
   "cell_type": "markdown",
   "metadata": {},
   "source": [
    "### Exercise Question 1.1:\n",
    "\n",
    "Using the variables below, print the \"[Konami Code](https://en.wikipedia.org/wiki/Konami_Code)\"\n",
    "\n",
    "```python\n",
    "v1 = \"up,\"\n",
    "v2 = \"down,\"\n",
    "v3 = \"left,\"\n",
    "v4 = \"right,\"\n",
    "v5 = \"b,\"\n",
    "v6 = \"a,\"\n",
    "v7 = \"start\"\n",
    "```"
   ]
  },
  {
   "cell_type": "code",
   "execution_count": 32,
   "metadata": {},
   "outputs": [],
   "source": [
    "# Insert your answer here"
   ]
  },
  {
   "cell_type": "markdown",
   "metadata": {},
   "source": [
    "### Exercise Question 1.2:\n",
    "\n",
    "Change the cases of the following three variables, printing them out in their new cases one per line:\n",
    "```python\n",
    "uppercaseme = \"Make me upper case!\"\n",
    "lowercaseme = \"Make me lower case.\"\n",
    "titlecaseme = \"Make me title case.\"\n",
    "```"
   ]
  },
  {
   "cell_type": "code",
   "execution_count": 33,
   "metadata": {},
   "outputs": [],
   "source": [
    "# Insert your answer here"
   ]
  },
  {
   "cell_type": "markdown",
   "metadata": {},
   "source": [
    "### Exercise Question 1.3:\n",
    "\n",
    "Here is a list:\n",
    "    \n",
    "```python\n",
    "wrong_order_list = [\"third\", \"first\", \"second\", \"fourth\", \"sixth\"]\n",
    "```\n",
    "\n",
    "Now create a new list that is in the right order by only indexing this list. Be sure to insert \"fifth\" into this new list."
   ]
  },
  {
   "cell_type": "code",
   "execution_count": 34,
   "metadata": {},
   "outputs": [],
   "source": [
    "# Insert your answer here"
   ]
  },
  {
   "cell_type": "markdown",
   "metadata": {},
   "source": [
    "### Section 1.3.4: Advanced List Operations¶\n",
    "\n",
    "#### 3.4.1. Slicing of lists\n",
    "\n",
    "We can do more than simply query a list by its index. And also, indices can be negative numbers as well. When we use negative numbers we are indexing the list from the end, rather than the front (we briefly saw this last week). We can also ask for a part of a list in a range. This is called 'slicing'. Finally, if we are working with characters, we can chop up a string into a list, or take a list and join it together as a string. You can index a list using the []. To slice a list, you would use the : inside the []. Lets try an example where we get a single indexed return and a slice:"
   ]
  },
  {
   "cell_type": "code",
   "execution_count": 35,
   "metadata": {},
   "outputs": [
    {
     "name": "stdout",
     "output_type": "stream",
     "text": [
      "['political science', 'social policy']\n"
     ]
    }
   ],
   "source": [
    "mylist = ['sociology', 'economics', 'political science', 'social policy']\n",
    "\n",
    "print(mylist[2:4])"
   ]
  },
  {
   "cell_type": "markdown",
   "metadata": {},
   "source": [
    "What happens if we try and call an index not in the range of the list? i.e. print(mylist[6]) ?\n",
    "\n",
    "Now you try: define your own list (it can be as long as you like) and index and slice it in various ways. Note, we index and split strings in exactly the same way as we do lists:"
   ]
  },
  {
   "cell_type": "code",
   "execution_count": 36,
   "metadata": {},
   "outputs": [
    {
     "name": "stdout",
     "output_type": "stream",
     "text": [
      "like cat food\n",
      "cats\n",
      "food\n"
     ]
    }
   ],
   "source": [
    "cat_breath = 'My cats breath smells like cat food'\n",
    "print(cat_breath[22:])\n",
    "print(cat_breath[3:7])\n",
    "print(cat_breath[-4:])"
   ]
  },
  {
   "cell_type": "markdown",
   "metadata": {},
   "source": [
    "We can also find the position at which something occurs with the find method:"
   ]
  },
  {
   "cell_type": "code",
   "execution_count": 37,
   "metadata": {},
   "outputs": [
    {
     "data": {
      "text/plain": [
       "3"
      ]
     },
     "execution_count": 37,
     "metadata": {},
     "output_type": "execute_result"
    }
   ],
   "source": [
    "cat_breath.find('cats')"
   ]
  },
  {
   "cell_type": "markdown",
   "metadata": {},
   "source": [
    "#### 1.3.4.2. Splitting\n",
    "\n",
    "Strings are just a special kind of list that only includes characters. We can query and slice strings the way we do lists. We can also alternate between strings and lists using ```.split()``` and ```.joint()```, i.e.:"
   ]
  },
  {
   "cell_type": "code",
   "execution_count": 38,
   "metadata": {},
   "outputs": [
    {
     "name": "stdout",
     "output_type": "stream",
     "text": [
      "['History', 'repeats', 'itself,\\nfirst', 'as', 'tragedy,\\nsecond', 'as', 'farce.']\n",
      "\n",
      "\n",
      "History repeats itself,\n",
      "first as tragedy,\n",
      "second as farce.\n"
     ]
    }
   ],
   "source": [
    "oldstring = 'History repeats itself,\\n' + \\\n",
    "            'first as tragedy,\\n' + \\\n",
    "            'second as farce.'\n",
    "\n",
    "newlist = oldstring.split(' ')\n",
    "\n",
    "print(newlist)\n",
    "\n",
    "newstring = ' '.join(newlist)\n",
    "\n",
    "print('\\n\\n' + newstring)"
   ]
  },
  {
   "cell_type": "markdown",
   "metadata": {},
   "source": [
    "Note again how we are breaking lines (Pep-8). We can also re-join a split string!\n",
    "\n",
    "Here (below) we are splitting the string on the '.', and re-joining them with ' ':"
   ]
  },
  {
   "cell_type": "code",
   "execution_count": 39,
   "metadata": {},
   "outputs": [
    {
     "name": "stdout",
     "output_type": "stream",
     "text": [
      "I.want.to.break.free.\n",
      "['I', 'want', 'to', 'break', 'free', '']\n",
      "I want to break free \n"
     ]
    }
   ],
   "source": [
    "iwanttobreakfree=\"I.want.to.break.free.\"\n",
    "\n",
    "print(iwanttobreakfree)\n",
    "\n",
    "godknows=iwanttobreakfree.split('.')\n",
    "\n",
    "print(godknows)\n",
    "\n",
    "godknowsiwanttobreakfree=\" \".join(godknows)\n",
    "\n",
    "print(godknowsiwanttobreakfree)"
   ]
  },
  {
   "cell_type": "markdown",
   "metadata": {},
   "source": [
    "This string really wants to break free..."
   ]
  },
  {
   "cell_type": "markdown",
   "metadata": {},
   "source": [
    "## Section 1.4: Iterating over a collection\n",
    "\n",
    "We now move onto **control statements** which are absolutely critical. The first one we will consider is the _for loop_ for iterating over objects (collections) such as lists.\n",
    "\n",
    "Virtually any collection can be iterated over. Python will keep track of the elements in a collection so that each element is used only once. If a collection is unordered python will not necessarily give you the elements in the order that they were created. The ordering is actually related to how they are stored in memory and so it could change at any point. The main way to iterate through a collection is to use the infamous *for loop*. This will iteratively 'loop' through all elements of our collection, operating on them one at a time. where 'i' is the conventional iterator, try something like the following:"
   ]
  },
  {
   "cell_type": "code",
   "execution_count": 40,
   "metadata": {},
   "outputs": [
    {
     "name": "stdout",
     "output_type": "stream",
     "text": [
      "1\n",
      "2\n",
      "3\n",
      "5\n",
      "7\n",
      "11\n",
      "13\n"
     ]
    }
   ],
   "source": [
    "PrimeList = [1, 2, 3, 5, 7, 11, 13]\n",
    "for i in PrimeList: \n",
    "    print(i)"
   ]
  },
  {
   "cell_type": "code",
   "execution_count": 41,
   "metadata": {},
   "outputs": [
    {
     "name": "stdout",
     "output_type": "stream",
     "text": [
      "Did you know that dogs are my favourite animals?\n",
      "Did you know that cats are my favourite animals?\n",
      "Did you know that turtles are my favourite animals?\n"
     ]
    }
   ],
   "source": [
    "animals = ['dogs', 'cats', 'turtles']\n",
    "\n",
    "for i in animals:\n",
    "    print('Did you know that '+ i +' are my favourite animals?')"
   ]
  },
  {
   "cell_type": "markdown",
   "metadata": {},
   "source": [
    "However, we can use any iterator. What are your favourite sandwiches?"
   ]
  },
  {
   "cell_type": "code",
   "execution_count": 42,
   "metadata": {},
   "outputs": [
    {
     "name": "stdout",
     "output_type": "stream",
     "text": [
      "avocado is my favourite sandwich filling!\n",
      "roast vegetables is my favourite sandwich filling!\n",
      "salad is my favourite sandwich filling!\n"
     ]
    }
   ],
   "source": [
    "sandwiches=['avocado', 'roast vegetables', 'salad'] # these two lines\n",
    "for sandwich in sandwiches:\n",
    "    print(sandwich + ' is my favourite sandwich filling!')"
   ]
  },
  {
   "cell_type": "markdown",
   "metadata": {},
   "source": [
    "There are two important things to note here:\n",
    "\n",
    "1. First, we *absolutely need* the colon at the end of the opening line of the control statement (try without!)\n",
    "\n",
    "2. Secondly, note the indentation. In Python, whitespace is used to denote blocks (in other langauges, brackets or braces are used). ```def```, ```if```, ```elif```, ```else```, ```try```, ```except```, ```finally```, ```with```, ```for```, ```while```, and ```class``` all start blocks. Some of these we will see more of in this course. To end the indentation, we just 'outdent' (i.e. go back to where we were before the block began). An indent can either be 4 spaces or a tab. People have [very heated](https://stackoverflow.com/questions/119562/tabs-versus-spaces-in-python-programming) discussions about [which to use](https://stackoverflow.blog/2017/06/15/developers-use-spaces-make-money-use-tabs/), but at this level, either is fine. Put simply: this indentation is how python manages what is inside a loop and what is after the loop. What happens if we dont intent, or dont include the colon?"
   ]
  },
  {
   "cell_type": "markdown",
   "metadata": {},
   "source": [
    "Lets try some more examples because this concept of a for loop is so critical:"
   ]
  },
  {
   "cell_type": "code",
   "execution_count": 43,
   "metadata": {},
   "outputs": [
    {
     "name": "stdout",
     "output_type": "stream",
     "text": [
      "Hi! My name is: \n",
      "what?\n",
      "Hi! My name is: \n",
      "who?\n",
      "Hi! My name is: \n",
      "Dr. Who\n"
     ]
    }
   ],
   "source": [
    "for name in ['what?', 'who?', 'Dr. Who']:\n",
    "    print('Hi! My name is: ')\n",
    "    print(name)"
   ]
  },
  {
   "cell_type": "markdown",
   "metadata": {},
   "source": [
    "Lets move on to the concept of a 'loop counter' ([as discussed in Season 2, episode 13 of the Big Bang Theory, where Sheldon displays his friendship algorithm](http://padcandy.com/wp-content/uploads/2013/11/cb55_full_view.jpg):"
   ]
  },
  {
   "cell_type": "code",
   "execution_count": 44,
   "metadata": {},
   "outputs": [
    {
     "name": "stdout",
     "output_type": "stream",
     "text": [
      "Computer programming language Python is rank: 1\n",
      "Computer programming language R is rank: 2\n"
     ]
    }
   ],
   "source": [
    "counter=0\n",
    "languages = ['Python', 'R']\n",
    "for language in languages:\n",
    "    counter=counter+1\n",
    "    print('Computer programming language ' + language +' is rank: '+str(counter))"
   ]
  },
  {
   "cell_type": "markdown",
   "metadata": {},
   "source": [
    "### 1.4.1. [Iteration isn't always in sequence](https://stackoverflow.com/questions/3848091/set-iteration-order-varies-from-run-to-run).\n",
    "\n",
    "Below, you will see iteration over sets, lists and dictionaries. *Importantly*: note that sets and dictionaries are not guaranteed to come back in order (as discussed above), but all will be returned eventually. Notice how dictionaries are slightly different since they are not collections of elements, but pairs of elements. You can also have ordered dictionaries, although this is left for the optional homework."
   ]
  },
  {
   "cell_type": "code",
   "execution_count": 45,
   "metadata": {},
   "outputs": [
    {
     "name": "stdout",
     "output_type": "stream",
     "text": [
      "List of colleges:\n",
      "nuffield\n",
      "st cats\n",
      "st cross\n",
      "nuffield\n",
      "trinty\n",
      "\n",
      "\n",
      "Set of colleges:\n",
      "st cats\n",
      "st cross\n",
      "nuffield\n",
      "trinty\n"
     ]
    }
   ],
   "source": [
    "college_list = ['nuffield', 'st cats', 'st cross', 'nuffield', 'trinty']\n",
    "college_set = set(college_list) # notice how some dissapear? why?\n",
    "\n",
    "print(\"List of colleges:\")\n",
    "for i in college_list: \n",
    "    print(i)\n",
    "print(\"\\n\") # this just adds a space in between the results rather than actually printing any content\n",
    "\n",
    "print(\"Set of colleges:\")\n",
    "for i in college_set: \n",
    "    print(i)"
   ]
  },
  {
   "cell_type": "code",
   "execution_count": 46,
   "metadata": {},
   "outputs": [
    {
     "name": "stdout",
     "output_type": "stream",
     "text": [
      "\n",
      "Dictionary [default, keys]:\n",
      "a\n",
      "b\n",
      "e\n",
      "\n",
      "Dictionary [values]:\n",
      "all souls\n",
      "['brasenose', 'balliol']\n",
      "exeter\n",
      "\n",
      "Dictionary [values] - by querying:\n",
      "all souls\n",
      "['brasenose', 'balliol']\n",
      "exeter\n",
      "\n",
      "Dictionary [items] - single query:\n",
      "('a', 'all souls')\n",
      "('b', ['brasenose', 'balliol'])\n",
      "('e', 'exeter')\n",
      "\n",
      "Dictionary [items] - double query:\n",
      "a : all souls\n",
      "b : ['brasenose', 'balliol']\n",
      "e : exeter\n"
     ]
    }
   ],
   "source": [
    "colleges = {\"a\":\"all souls\", \"b\":[\"brasenose\", \"balliol\"], \"e\":\"exeter\"}\n",
    "\n",
    "print(\"\\nDictionary [default, keys]:\")\n",
    "for i in colleges:\n",
    "    print(i)\n",
    "    \n",
    "print(\"\\nDictionary [values]:\")\n",
    "for i in colleges.values(): \n",
    "    print(i)\n",
    "\n",
    "print(\"\\nDictionary [values] - by querying:\")\n",
    "for i in colleges:\n",
    "    print(colleges[i])\n",
    "\n",
    "print(\"\\nDictionary [items] - single query:\")\n",
    "for i in colleges.items(): \n",
    "    print(i)\n",
    "    \n",
    "print(\"\\nDictionary [items] - double query:\")\n",
    "for i,j in colleges.items(): \n",
    "    print(i,\":\",j)"
   ]
  },
  {
   "cell_type": "markdown",
   "metadata": {},
   "source": [
    "More advanced functionality that we wont cover: [zip](https://www.w3schools.com/python/ref_func_zip.asp)\n",
    "    \n",
    "For example, we won't consider:\n",
    "\n",
    "```python\n",
    "for f, b in zip(foo, bar):\n",
    "    print(f, b)\n",
    "```"
   ]
  },
  {
   "cell_type": "markdown",
   "metadata": {},
   "source": [
    "### Homework 1.1\n",
    "\n",
    "Using ```split``` and ```len```, figure out how to compute how many words are in this famous quote by Albert Einstein:\n",
    "\n",
    "```python\n",
    "albert_einstein = 'Logic will get you from A to Z, but imagination will take you everywhere.'\n",
    "```"
   ]
  },
  {
   "cell_type": "code",
   "execution_count": 47,
   "metadata": {},
   "outputs": [],
   "source": [
    "# Answer 1.1 here"
   ]
  },
  {
   "cell_type": "markdown",
   "metadata": {},
   "source": [
    "### Homework 1.2\n",
    "\n",
    "Loop through [the words](https://soundcloud.com/leahkardos/leah-kardos-dface-practice): if the word starts with an 'a', then print it:\n",
    "\n",
    "```python\n",
    "practicethis = \"The object of this lesson is to internalise the notes and the keys; in other words, it should become like a reflex for you to see the note on the page and immediately play that appropriate key, in the same way that you see a letter in a word, and immediately visualise the pronounciation.\"\n",
    "```"
   ]
  },
  {
   "cell_type": "code",
   "execution_count": 48,
   "metadata": {},
   "outputs": [],
   "source": [
    "# Answer 1.2 here"
   ]
  },
  {
   "cell_type": "markdown",
   "metadata": {},
   "source": [
    "### Homework 1.3\n",
    "\n",
    "```python\n",
    "wrongphrase = \"The slow red fox sat by the friendly dog\"\n",
    "```\n",
    "\n",
    "Print the right phrase (\"The quick brown fox jumps over the lazy dog\") by splitting, replacing the wrong words with the right ones, and then (re-)joining."
   ]
  },
  {
   "cell_type": "code",
   "execution_count": 49,
   "metadata": {},
   "outputs": [],
   "source": [
    "# Answer 1.3 here"
   ]
  },
  {
   "cell_type": "markdown",
   "metadata": {},
   "source": [
    "### Homework 1.4\n",
    "\n",
    "Print a number UNLESS it has already been printed. Here's a bit of code to get you started:\n",
    "\n",
    "```python\n",
    "import random\n",
    "for i in range(10):\n",
    "    rando = random.randint(0,9)\n",
    "```"
   ]
  },
  {
   "cell_type": "code",
   "execution_count": 50,
   "metadata": {},
   "outputs": [],
   "source": [
    "# Answer 1.4 here"
   ]
  }
 ],
 "metadata": {
  "kernelspec": {
   "display_name": "Python 3",
   "language": "python",
   "name": "python3"
  },
  "language_info": {
   "codemirror_mode": {
    "name": "ipython",
    "version": 3
   },
   "file_extension": ".py",
   "mimetype": "text/x-python",
   "name": "python",
   "nbconvert_exporter": "python",
   "pygments_lexer": "ipython3",
   "version": "3.8.5"
  }
 },
 "nbformat": 4,
 "nbformat_minor": 2
}
