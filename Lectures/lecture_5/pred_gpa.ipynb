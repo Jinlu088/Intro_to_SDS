{
 "cells": [
  {
   "cell_type": "code",
   "execution_count": 1,
   "metadata": {},
   "outputs": [],
   "source": [
    "import pandas as pd\n",
    "import os\n",
    "import numpy as np\n",
    "import matplotlib.pyplot as plt\n",
    "\n",
    "import statsmodels.api as sm\n",
    "simple = pd.read_csv(os.path.join(os.getcwd(), 'FFChallenge_v5', 'example_prepared_data.csv'))"
   ]
  },
  {
   "cell_type": "code",
   "execution_count": 2,
   "metadata": {},
   "outputs": [],
   "source": [
    "train = simple[simple['set']=='train']"
   ]
  },
  {
   "cell_type": "code",
   "execution_count": 3,
   "metadata": {},
   "outputs": [],
   "source": [
    "test = pd.read_csv(os.path.join(os.getcwd(),'ffchallenge_papers_replication_materials', 'test.csv'))\n",
    "test = test[test['gpa'].notnull()]\n",
    "test = pd.merge(test, simple.drop(['grit', 'gpa', 'materialHardship',\n",
    "                                  'eviction','layoff','jobTraining'], axis=1), how='left',\n",
    "                left_on='challengeID', right_on='challengeID')"
   ]
  },
  {
   "cell_type": "code",
   "execution_count": 4,
   "metadata": {},
   "outputs": [
    {
     "data": {
      "text/html": [
       "<table class=\"simpletable\">\n",
       "<caption>OLS Regression Results</caption>\n",
       "<tr>\n",
       "  <th>Dep. Variable:</th>           <td>gpa</td>       <th>  R-squared:         </th> <td>   0.097</td>\n",
       "</tr>\n",
       "<tr>\n",
       "  <th>Model:</th>                   <td>OLS</td>       <th>  Adj. R-squared:    </th> <td>   0.096</td>\n",
       "</tr>\n",
       "<tr>\n",
       "  <th>Method:</th>             <td>Least Squares</td>  <th>  F-statistic:       </th> <td>   125.2</td>\n",
       "</tr>\n",
       "<tr>\n",
       "  <th>Date:</th>             <td>Sun, 28 Mar 2021</td> <th>  Prob (F-statistic):</th> <td>1.12e-27</td>\n",
       "</tr>\n",
       "<tr>\n",
       "  <th>Time:</th>                 <td>18:58:56</td>     <th>  Log-Likelihood:    </th> <td> -1118.3</td>\n",
       "</tr>\n",
       "<tr>\n",
       "  <th>No. Observations:</th>      <td>  1165</td>      <th>  AIC:               </th> <td>   2241.</td>\n",
       "</tr>\n",
       "<tr>\n",
       "  <th>Df Residuals:</th>          <td>  1163</td>      <th>  BIC:               </th> <td>   2251.</td>\n",
       "</tr>\n",
       "<tr>\n",
       "  <th>Df Model:</th>              <td>     1</td>      <th>                     </th>     <td> </td>   \n",
       "</tr>\n",
       "<tr>\n",
       "  <th>Covariance Type:</th>      <td>nonrobust</td>    <th>                     </th>     <td> </td>   \n",
       "</tr>\n",
       "</table>\n",
       "<table class=\"simpletable\">\n",
       "<tr>\n",
       "                 <td></td>                   <th>coef</th>     <th>std err</th>      <th>t</th>      <th>P>|t|</th>  <th>[0.025</th>    <th>0.975]</th>  \n",
       "</tr>\n",
       "<tr>\n",
       "  <th>constant</th>                       <td>    2.1832</td> <td>    0.064</td> <td>   34.202</td> <td> 0.000</td> <td>    2.058</td> <td>    2.308</td>\n",
       "</tr>\n",
       "<tr>\n",
       "  <th>gpa_related_lag_teacher_rating</th> <td>    0.2343</td> <td>    0.021</td> <td>   11.190</td> <td> 0.000</td> <td>    0.193</td> <td>    0.275</td>\n",
       "</tr>\n",
       "</table>\n",
       "<table class=\"simpletable\">\n",
       "<tr>\n",
       "  <th>Omnibus:</th>       <td>23.130</td> <th>  Durbin-Watson:     </th> <td>   2.043</td>\n",
       "</tr>\n",
       "<tr>\n",
       "  <th>Prob(Omnibus):</th> <td> 0.000</td> <th>  Jarque-Bera (JB):  </th> <td>  20.865</td>\n",
       "</tr>\n",
       "<tr>\n",
       "  <th>Skew:</th>          <td>-0.274</td> <th>  Prob(JB):          </th> <td>2.95e-05</td>\n",
       "</tr>\n",
       "<tr>\n",
       "  <th>Kurtosis:</th>      <td> 2.641</td> <th>  Cond. No.          </th> <td>    11.5</td>\n",
       "</tr>\n",
       "</table><br/><br/>Notes:<br/>[1] Standard Errors assume that the covariance matrix of the errors is correctly specified."
      ],
      "text/plain": [
       "<class 'statsmodels.iolib.summary.Summary'>\n",
       "\"\"\"\n",
       "                            OLS Regression Results                            \n",
       "==============================================================================\n",
       "Dep. Variable:                    gpa   R-squared:                       0.097\n",
       "Model:                            OLS   Adj. R-squared:                  0.096\n",
       "Method:                 Least Squares   F-statistic:                     125.2\n",
       "Date:                Sun, 28 Mar 2021   Prob (F-statistic):           1.12e-27\n",
       "Time:                        18:58:56   Log-Likelihood:                -1118.3\n",
       "No. Observations:                1165   AIC:                             2241.\n",
       "Df Residuals:                    1163   BIC:                             2251.\n",
       "Df Model:                           1                                         \n",
       "Covariance Type:            nonrobust                                         \n",
       "==================================================================================================\n",
       "                                     coef    std err          t      P>|t|      [0.025      0.975]\n",
       "--------------------------------------------------------------------------------------------------\n",
       "constant                           2.1832      0.064     34.202      0.000       2.058       2.308\n",
       "gpa_related_lag_teacher_rating     0.2343      0.021     11.190      0.000       0.193       0.275\n",
       "==============================================================================\n",
       "Omnibus:                       23.130   Durbin-Watson:                   2.043\n",
       "Prob(Omnibus):                  0.000   Jarque-Bera (JB):               20.865\n",
       "Skew:                          -0.274   Prob(JB):                     2.95e-05\n",
       "Kurtosis:                       2.641   Cond. No.                         11.5\n",
       "==============================================================================\n",
       "\n",
       "Notes:\n",
       "[1] Standard Errors assume that the covariance matrix of the errors is correctly specified.\n",
       "\"\"\""
      ]
     },
     "execution_count": 4,
     "metadata": {},
     "output_type": "execute_result"
    }
   ],
   "source": [
    "train_for_gpa_uni = train[train['gpa'].notnull() &\n",
    "                          train['gpa_related_lag_teacher_rating'].notnull()# &\n",
    "#                          train['cm1edu'].notnull() &\n",
    "#                          train['cm1ethrace'].notnull()\n",
    "                         ].copy()\n",
    "train_for_gpa_uni.at[:, 'constant'] = 1\n",
    "test.loc[:, 'constant'] = 1\n",
    "olsmod = sm.OLS(train_for_gpa_uni['gpa'], train_for_gpa_uni[['constant', 'gpa_related_lag_teacher_rating']])\n",
    "olsres = olsmod.fit()\n",
    "olsres.summary()"
   ]
  },
  {
   "cell_type": "code",
   "execution_count": 5,
   "metadata": {},
   "outputs": [
    {
     "data": {
      "text/plain": [
       "<AxesSubplot:xlabel='gpa_uni_pred', ylabel='gpa'>"
      ]
     },
     "execution_count": 5,
     "metadata": {},
     "output_type": "execute_result"
    },
    {
     "data": {
      "image/png": "[encoded data removed]",
      "text/plain": [
       "<Figure size 432x288 with 1 Axes>"
      ]
     },
     "metadata": {
      "needs_background": "light"
     },
     "output_type": "display_data"
    }
   ],
   "source": [
    "test['gpa_uni_pred'] = olsres.predict(test[['constant', 'gpa_related_lag_teacher_rating']])\n",
    "test[['gpa_uni_pred', 'gpa']].plot(x='gpa_uni_pred', y='gpa', kind='scatter')"
   ]
  },
  {
   "cell_type": "code",
   "execution_count": 6,
   "metadata": {},
   "outputs": [],
   "source": [
    "test['gpa_uni_pred_sqr_error'] = (test['gpa'] - test['gpa_uni_pred'])**2\n",
    "sum_gpa_uni_pred_sqr_error = test['gpa_uni_pred_sqr_error'].sum()\n",
    "test['gpa_uni_dev_sqr'] = (test['gpa']-train_for_gpa_uni['gpa'].mean())**2\n",
    "gpa_uni_sum_deviance_sqr = test['gpa_uni_dev_sqr'].sum()\n",
    "R2_gpa_uni_holdout = 1 -(sum_gpa_uni_pred_sqr_error/gpa_uni_sum_deviance_sqr)"
   ]
  },
  {
   "cell_type": "code",
   "execution_count": 7,
   "metadata": {},
   "outputs": [
    {
     "data": {
      "text/plain": [
       "0.07248716886869355"
      ]
     },
     "execution_count": 7,
     "metadata": {},
     "output_type": "execute_result"
    }
   ],
   "source": [
    "R2_gpa_uni_holdout"
   ]
  },
  {
   "cell_type": "code",
   "execution_count": 8,
   "metadata": {},
   "outputs": [
    {
     "data": {
      "text/html": [
       "<table class=\"simpletable\">\n",
       "<caption>OLS Regression Results</caption>\n",
       "<tr>\n",
       "  <th>Dep. Variable:</th>           <td>gpa</td>       <th>  R-squared:         </th> <td>   0.166</td>\n",
       "</tr>\n",
       "<tr>\n",
       "  <th>Model:</th>                   <td>OLS</td>       <th>  Adj. R-squared:    </th> <td>   0.159</td>\n",
       "</tr>\n",
       "<tr>\n",
       "  <th>Method:</th>             <td>Least Squares</td>  <th>  F-statistic:       </th> <td>   25.50</td>\n",
       "</tr>\n",
       "<tr>\n",
       "  <th>Date:</th>             <td>Sun, 28 Mar 2021</td> <th>  Prob (F-statistic):</th> <td>2.74e-40</td>\n",
       "</tr>\n",
       "<tr>\n",
       "  <th>Time:</th>                 <td>18:58:56</td>     <th>  Log-Likelihood:    </th> <td> -1072.3</td>\n",
       "</tr>\n",
       "<tr>\n",
       "  <th>No. Observations:</th>      <td>  1165</td>      <th>  AIC:               </th> <td>   2165.</td>\n",
       "</tr>\n",
       "<tr>\n",
       "  <th>Df Residuals:</th>          <td>  1155</td>      <th>  BIC:               </th> <td>   2215.</td>\n",
       "</tr>\n",
       "<tr>\n",
       "  <th>Df Model:</th>              <td>     9</td>      <th>                     </th>     <td> </td>   \n",
       "</tr>\n",
       "<tr>\n",
       "  <th>Covariance Type:</th>      <td>nonrobust</td>    <th>                     </th>     <td> </td>   \n",
       "</tr>\n",
       "</table>\n",
       "<table class=\"simpletable\">\n",
       "<tr>\n",
       "                 <td></td>                   <th>coef</th>     <th>std err</th>      <th>t</th>      <th>P>|t|</th>  <th>[0.025</th>    <th>0.975]</th>  \n",
       "</tr>\n",
       "<tr>\n",
       "  <th>constant</th>                       <td>    2.5511</td> <td>    0.100</td> <td>   25.495</td> <td> 0.000</td> <td>    2.355</td> <td>    2.747</td>\n",
       "</tr>\n",
       "<tr>\n",
       "  <th>gpa_related_lag_teacher_rating</th> <td>    0.1796</td> <td>    0.021</td> <td>    8.465</td> <td> 0.000</td> <td>    0.138</td> <td>    0.221</td>\n",
       "</tr>\n",
       "<tr>\n",
       "  <th>hispanic</th>                       <td>    0.1289</td> <td>    0.046</td> <td>    2.790</td> <td> 0.005</td> <td>    0.038</td> <td>    0.220</td>\n",
       "</tr>\n",
       "<tr>\n",
       "  <th>other</th>                          <td>    0.1548</td> <td>    0.054</td> <td>    2.847</td> <td> 0.004</td> <td>    0.048</td> <td>    0.261</td>\n",
       "</tr>\n",
       "<tr>\n",
       "  <th>other</th>                          <td>   -0.0161</td> <td>    0.021</td> <td>   -0.762</td> <td> 0.446</td> <td>   -0.057</td> <td>    0.025</td>\n",
       "</tr>\n",
       "<tr>\n",
       "  <th>white, non-hispanic</th>            <td>    0.1187</td> <td>    0.051</td> <td>    2.346</td> <td> 0.019</td> <td>    0.019</td> <td>    0.218</td>\n",
       "</tr>\n",
       "<tr>\n",
       "  <th>hs or equiv</th>                    <td>   -0.2664</td> <td>    0.071</td> <td>   -3.755</td> <td> 0.000</td> <td>   -0.406</td> <td>   -0.127</td>\n",
       "</tr>\n",
       "<tr>\n",
       "  <th>less hs</th>                        <td>   -0.4336</td> <td>    0.073</td> <td>   -5.916</td> <td> 0.000</td> <td>   -0.577</td> <td>   -0.290</td>\n",
       "</tr>\n",
       "<tr>\n",
       "  <th>some coll, tech</th>                <td>   -0.1906</td> <td>    0.070</td> <td>   -2.730</td> <td> 0.006</td> <td>   -0.328</td> <td>   -0.054</td>\n",
       "</tr>\n",
       "<tr>\n",
       "  <th>married</th>                        <td>    0.0375</td> <td>    0.054</td> <td>    0.695</td> <td> 0.487</td> <td>   -0.068</td> <td>    0.144</td>\n",
       "</tr>\n",
       "<tr>\n",
       "  <th>other</th>                          <td>    0.1548</td> <td>    0.054</td> <td>    2.847</td> <td> 0.004</td> <td>    0.048</td> <td>    0.261</td>\n",
       "</tr>\n",
       "<tr>\n",
       "  <th>other</th>                          <td>   -0.0161</td> <td>    0.021</td> <td>   -0.762</td> <td> 0.446</td> <td>   -0.057</td> <td>    0.025</td>\n",
       "</tr>\n",
       "</table>\n",
       "<table class=\"simpletable\">\n",
       "<tr>\n",
       "  <th>Omnibus:</th>       <td>20.210</td> <th>  Durbin-Watson:     </th> <td>   2.056</td>\n",
       "</tr>\n",
       "<tr>\n",
       "  <th>Prob(Omnibus):</th> <td> 0.000</td> <th>  Jarque-Bera (JB):  </th> <td>  20.717</td>\n",
       "</tr>\n",
       "<tr>\n",
       "  <th>Skew:</th>          <td>-0.313</td> <th>  Prob(JB):          </th> <td>3.17e-05</td>\n",
       "</tr>\n",
       "<tr>\n",
       "  <th>Kurtosis:</th>      <td> 2.812</td> <th>  Cond. No.          </th> <td>1.65e+17</td>\n",
       "</tr>\n",
       "</table><br/><br/>Notes:<br/>[1] Standard Errors assume that the covariance matrix of the errors is correctly specified.<br/>[2] The smallest eigenvalue is 4.69e-31. This might indicate that there are<br/>strong multicollinearity problems or that the design matrix is singular."
      ],
      "text/plain": [
       "<class 'statsmodels.iolib.summary.Summary'>\n",
       "\"\"\"\n",
       "                            OLS Regression Results                            \n",
       "==============================================================================\n",
       "Dep. Variable:                    gpa   R-squared:                       0.166\n",
       "Model:                            OLS   Adj. R-squared:                  0.159\n",
       "Method:                 Least Squares   F-statistic:                     25.50\n",
       "Date:                Sun, 28 Mar 2021   Prob (F-statistic):           2.74e-40\n",
       "Time:                        18:58:56   Log-Likelihood:                -1072.3\n",
       "No. Observations:                1165   AIC:                             2165.\n",
       "Df Residuals:                    1155   BIC:                             2215.\n",
       "Df Model:                           9                                         \n",
       "Covariance Type:            nonrobust                                         \n",
       "==================================================================================================\n",
       "                                     coef    std err          t      P>|t|      [0.025      0.975]\n",
       "--------------------------------------------------------------------------------------------------\n",
       "constant                           2.5511      0.100     25.495      0.000       2.355       2.747\n",
       "gpa_related_lag_teacher_rating     0.1796      0.021      8.465      0.000       0.138       0.221\n",
       "hispanic                           0.1289      0.046      2.790      0.005       0.038       0.220\n",
       "other                              0.1548      0.054      2.847      0.004       0.048       0.261\n",
       "other                             -0.0161      0.021     -0.762      0.446      -0.057       0.025\n",
       "white, non-hispanic                0.1187      0.051      2.346      0.019       0.019       0.218\n",
       "hs or equiv                       -0.2664      0.071     -3.755      0.000      -0.406      -0.127\n",
       "less hs                           -0.4336      0.073     -5.916      0.000      -0.577      -0.290\n",
       "some coll, tech                   -0.1906      0.070     -2.730      0.006      -0.328      -0.054\n",
       "married                            0.0375      0.054      0.695      0.487      -0.068       0.144\n",
       "other                              0.1548      0.054      2.847      0.004       0.048       0.261\n",
       "other                             -0.0161      0.021     -0.762      0.446      -0.057       0.025\n",
       "==============================================================================\n",
       "Omnibus:                       20.210   Durbin-Watson:                   2.056\n",
       "Prob(Omnibus):                  0.000   Jarque-Bera (JB):               20.717\n",
       "Skew:                          -0.313   Prob(JB):                     3.17e-05\n",
       "Kurtosis:                       2.812   Cond. No.                     1.65e+17\n",
       "==============================================================================\n",
       "\n",
       "Notes:\n",
       "[1] Standard Errors assume that the covariance matrix of the errors is correctly specified.\n",
       "[2] The smallest eigenvalue is 4.69e-31. This might indicate that there are\n",
       "strong multicollinearity problems or that the design matrix is singular.\n",
       "\"\"\""
      ]
     },
     "execution_count": 8,
     "metadata": {},
     "output_type": "execute_result"
    }
   ],
   "source": [
    "train_for_gpa_uni = pd.concat((train_for_gpa_uni, pd.get_dummies(train_for_gpa_uni['cm1ethrace'], drop_first=True)), axis=1)\n",
    "train_for_gpa_uni = pd.concat((train_for_gpa_uni, pd.get_dummies(train_for_gpa_uni['cm1edu'], drop_first=True)), axis=1)\n",
    "train_for_gpa_uni = pd.concat((train_for_gpa_uni, pd.get_dummies(train_for_gpa_uni['cm1relf'], drop_first=True)), axis=1)\n",
    "\n",
    "test = pd.concat((test, pd.get_dummies(test['cm1ethrace'], drop_first=True)), axis=1)\n",
    "test = pd.concat((test, pd.get_dummies(test['cm1edu'], drop_first=True)), axis=1)\n",
    "test = pd.concat((test, pd.get_dummies(test['cm1relf'], drop_first=True)), axis=1)\n",
    "\n",
    "olsmod = sm.OLS(train_for_gpa_uni['gpa'], train_for_gpa_uni[['constant', 'gpa_related_lag_teacher_rating',\n",
    "                                                             'hispanic', 'other','white, non-hispanic',\n",
    "                                                             'hs or equiv', 'less hs', 'some coll, tech',\n",
    "                                                             'married', 'other']])\n",
    "olsres = olsmod.fit()\n",
    "test['gpa_uni_pred'] = olsres.predict(test[['constant', 'gpa_related_lag_teacher_rating',\n",
    "                                            'hispanic', 'other','white, non-hispanic',\n",
    "                                            'hs or equiv', 'less hs', 'some coll, tech',\n",
    "                                            'married', 'other']])\n",
    "olsres.summary()"
   ]
  },
  {
   "cell_type": "code",
   "execution_count": 9,
   "metadata": {},
   "outputs": [],
   "source": [
    "test['gpa_uni_pred_sqr_error'] = (test['gpa'] - test['gpa_uni_pred'])**2\n",
    "sum_gpa_uni_pred_sqr_error = test['gpa_uni_pred_sqr_error'].sum()\n",
    "test['gpa_uni_dev_sqr'] = (test['gpa']-train_for_gpa_uni['gpa'].mean())**2\n",
    "gpa_uni_sum_deviance_sqr = test['gpa_uni_dev_sqr'].sum()\n",
    "R2_gpa_uni_holdout = 1 -(sum_gpa_uni_pred_sqr_error/gpa_uni_sum_deviance_sqr)"
   ]
  },
  {
   "cell_type": "code",
   "execution_count": 10,
   "metadata": {},
   "outputs": [
    {
     "data": {
      "text/plain": [
       "0.13238151396802778"
      ]
     },
     "execution_count": 10,
     "metadata": {},
     "output_type": "execute_result"
    }
   ],
   "source": [
    "R2_gpa_uni_holdout"
   ]
  },
  {
   "cell_type": "code",
   "execution_count": 13,
   "metadata": {},
   "outputs": [
    {
     "data": {
      "text/plain": [
       "2.5"
      ]
     },
     "execution_count": 13,
     "metadata": {},
     "output_type": "execute_result"
    }
   ],
   "source": [
    "np.nanmean([np.nan, 3,2])"
   ]
  },
  {
   "cell_type": "code",
   "execution_count": null,
   "metadata": {},
   "outputs": [],
   "source": []
  }
 ],
 "metadata": {
  "kernelspec": {
   "display_name": "Python 3",
   "language": "python",
   "name": "python3"
  },
  "language_info": {
   "codemirror_mode": {
    "name": "ipython",
    "version": 3
   },
   "file_extension": ".py",
   "mimetype": "text/x-python",
   "name": "python",
   "nbconvert_exporter": "python",
   "pygments_lexer": "ipython3",
   "version": "3.8.5"
  }
 },
 "nbformat": 4,
 "nbformat_minor": 4
}
