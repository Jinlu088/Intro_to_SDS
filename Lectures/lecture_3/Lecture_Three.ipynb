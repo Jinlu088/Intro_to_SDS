{
 "cells": [
  {
   "cell_type": "markdown",
   "id": "measured-blank",
   "metadata": {},
   "source": [
    "# An Introduction to Social Data Science\n",
    "\n",
    "## Lecture Three\n",
    "\n",
    "### An Introduction to Key SDS Libraries\n",
    "\n",
    "#### 11th August, 2021"
   ]
  },
  {
   "cell_type": "markdown",
   "id": "verbal-michael",
   "metadata": {},
   "source": [
    "Welcome!"
   ]
  },
  {
   "cell_type": "code",
   "execution_count": 3,
   "id": "metric-suicide",
   "metadata": {},
   "outputs": [
    {
     "name": "stdout",
     "output_type": "stream",
     "text": [
      "testing Jupyter notebook integration in Pycharm\n"
     ]
    }
   ],
   "source": [
    "print('testing Jupyter notebook integration in Pycharm')"
   ]
  }
 ],
 "metadata": {
  "kernelspec": {
   "display_name": "Python 3",
   "language": "python",
   "name": "python3"
  },
  "language_info": {
   "codemirror_mode": {
    "name": "ipython",
    "version": 3
   },
   "file_extension": ".py",
   "mimetype": "text/x-python",
   "name": "python",
   "nbconvert_exporter": "python",
   "pygments_lexer": "ipython3",
   "version": "3.8.5"
  }
 },
 "nbformat": 4,
 "nbformat_minor": 5
}